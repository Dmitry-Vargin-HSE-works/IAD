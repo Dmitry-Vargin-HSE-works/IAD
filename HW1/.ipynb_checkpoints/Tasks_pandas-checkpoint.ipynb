{
 "cells": [
  {
   "cell_type": "markdown",
   "metadata": {},
   "source": [
    "# <center> Майнор \"Интеллектуальный анализ данных\" </center>"
   ]
  },
  {
   "cell_type": "markdown",
   "metadata": {},
   "source": [
    "# <center> Курс \"Введение в программирование\" </center>"
   ]
  },
  {
   "cell_type": "markdown",
   "metadata": {},
   "source": [
    "# <center> Первичный анализ данных. Pandas. </center>"
   ]
  },
  {
   "cell_type": "markdown",
   "metadata": {},
   "source": [
    "## Credits\n",
    "[Открытый курс ODS по машинному обучению](https://github.com/Yorko/mlcourse_open) "
   ]
  },
  {
   "cell_type": "markdown",
   "metadata": {},
   "source": [
    "## Часть 1.   \n",
    "  \n",
    "1. Установите Anaconda (или Miniconda) и запустите Jupyter Notebook\n",
    "2. Воспроизведите вычисления с семинара (файл `Explore_analysis.Pandas.ipynb`) <br>\n",
    "   **Note:** Возможно, придется самостоятельно установить библиотеку seaborn. Для этого в Anaconda Prompt выполните `conda install seaborn`\n",
    "3. Разберите тьюториалы [10 minutes to pandas](https://pandas.pydata.org/docs/user_guide/10min.html#min) и [Essential basic functionality](https://pandas.pydata.org/docs/user_guide/basics.html#basics)."
   ]
  },
  {
   "cell_type": "markdown",
   "metadata": {},
   "source": [
    "## Часть 2. Анализ данных по доходу населения UCI Adult"
   ]
  },
  {
   "cell_type": "markdown",
   "metadata": {},
   "source": [
    "**В задании предлагается с помощью Pandas ответить на несколько вопросов по данным репозитория UCI [Adult](https://archive.ics.uci.edu/ml/datasets/Adult).**"
   ]
  },
  {
   "cell_type": "markdown",
   "metadata": {},
   "source": [
    "В качестве наблюдений в этом наборе данных представлены физические лица, они характеризуются различными признаками. Целевая переменная **salary** - доход человека > 50K или <= 50K."
   ]
  },
  {
   "cell_type": "code",
   "execution_count": 134,
   "metadata": {},
   "outputs": [],
   "source": [
    "import numpy as np\n",
    "import pandas as pd\n",
    "\n",
    "import matplotlib.pyplot as plt\n",
    "import seaborn as sns\n",
    "\n",
    "from icecream import ic\n",
    "# чтоб картинки рисовались в тетрадке\n",
    "%matplotlib inline "
   ]
  },
  {
   "cell_type": "code",
   "execution_count": 142,
   "metadata": {},
   "outputs": [
    {
     "data": {
      "text/plain": [
       "array([213, 234, 234,   5, 123,  57])"
      ]
     },
     "execution_count": 142,
     "metadata": {},
     "output_type": "execute_result"
    }
   ],
   "source": [
    "my_series = pd.Series([213, 234, 234, 5, 123, 57])\n",
    "my_series.values"
   ]
  },
  {
   "cell_type": "code",
   "execution_count": 143,
   "metadata": {},
   "outputs": [
    {
     "data": {
      "text/html": [
       "<div>\n",
       "<style scoped>\n",
       "    .dataframe tbody tr th:only-of-type {\n",
       "        vertical-align: middle;\n",
       "    }\n",
       "\n",
       "    .dataframe tbody tr th {\n",
       "        vertical-align: top;\n",
       "    }\n",
       "\n",
       "    .dataframe thead th {\n",
       "        text-align: right;\n",
       "    }\n",
       "</style>\n",
       "<table border=\"1\" class=\"dataframe\">\n",
       "  <thead>\n",
       "    <tr style=\"text-align: right;\">\n",
       "      <th></th>\n",
       "      <th>age</th>\n",
       "      <th>workclass</th>\n",
       "      <th>fnlwgt</th>\n",
       "      <th>education</th>\n",
       "      <th>education-num</th>\n",
       "      <th>marital-status</th>\n",
       "      <th>occupation</th>\n",
       "      <th>relationship</th>\n",
       "      <th>race</th>\n",
       "      <th>sex</th>\n",
       "      <th>capital-gain</th>\n",
       "      <th>capital-loss</th>\n",
       "      <th>hours-per-week</th>\n",
       "      <th>native-country</th>\n",
       "      <th>salary</th>\n",
       "    </tr>\n",
       "  </thead>\n",
       "  <tbody>\n",
       "    <tr>\n",
       "      <th>0</th>\n",
       "      <td>39</td>\n",
       "      <td>State-gov</td>\n",
       "      <td>77516</td>\n",
       "      <td>Bachelors</td>\n",
       "      <td>13</td>\n",
       "      <td>Never-married</td>\n",
       "      <td>Adm-clerical</td>\n",
       "      <td>Not-in-family</td>\n",
       "      <td>White</td>\n",
       "      <td>Male</td>\n",
       "      <td>2174</td>\n",
       "      <td>0</td>\n",
       "      <td>40</td>\n",
       "      <td>United-States</td>\n",
       "      <td>&lt;=50K</td>\n",
       "    </tr>\n",
       "    <tr>\n",
       "      <th>1</th>\n",
       "      <td>50</td>\n",
       "      <td>Self-emp-not-inc</td>\n",
       "      <td>83311</td>\n",
       "      <td>Bachelors</td>\n",
       "      <td>13</td>\n",
       "      <td>Married-civ-spouse</td>\n",
       "      <td>Exec-managerial</td>\n",
       "      <td>Husband</td>\n",
       "      <td>White</td>\n",
       "      <td>Male</td>\n",
       "      <td>0</td>\n",
       "      <td>0</td>\n",
       "      <td>13</td>\n",
       "      <td>United-States</td>\n",
       "      <td>&lt;=50K</td>\n",
       "    </tr>\n",
       "    <tr>\n",
       "      <th>2</th>\n",
       "      <td>38</td>\n",
       "      <td>Private</td>\n",
       "      <td>215646</td>\n",
       "      <td>HS-grad</td>\n",
       "      <td>9</td>\n",
       "      <td>Divorced</td>\n",
       "      <td>Handlers-cleaners</td>\n",
       "      <td>Not-in-family</td>\n",
       "      <td>White</td>\n",
       "      <td>Male</td>\n",
       "      <td>0</td>\n",
       "      <td>0</td>\n",
       "      <td>40</td>\n",
       "      <td>United-States</td>\n",
       "      <td>&lt;=50K</td>\n",
       "    </tr>\n",
       "    <tr>\n",
       "      <th>3</th>\n",
       "      <td>53</td>\n",
       "      <td>Private</td>\n",
       "      <td>234721</td>\n",
       "      <td>11th</td>\n",
       "      <td>7</td>\n",
       "      <td>Married-civ-spouse</td>\n",
       "      <td>Handlers-cleaners</td>\n",
       "      <td>Husband</td>\n",
       "      <td>Black</td>\n",
       "      <td>Male</td>\n",
       "      <td>0</td>\n",
       "      <td>0</td>\n",
       "      <td>40</td>\n",
       "      <td>United-States</td>\n",
       "      <td>&lt;=50K</td>\n",
       "    </tr>\n",
       "    <tr>\n",
       "      <th>4</th>\n",
       "      <td>28</td>\n",
       "      <td>Private</td>\n",
       "      <td>338409</td>\n",
       "      <td>Bachelors</td>\n",
       "      <td>13</td>\n",
       "      <td>Married-civ-spouse</td>\n",
       "      <td>Prof-specialty</td>\n",
       "      <td>Wife</td>\n",
       "      <td>Black</td>\n",
       "      <td>Female</td>\n",
       "      <td>0</td>\n",
       "      <td>0</td>\n",
       "      <td>40</td>\n",
       "      <td>Cuba</td>\n",
       "      <td>&lt;=50K</td>\n",
       "    </tr>\n",
       "  </tbody>\n",
       "</table>\n",
       "</div>"
      ],
      "text/plain": [
       "   age         workclass  fnlwgt  education  education-num  \\\n",
       "0   39         State-gov   77516  Bachelors             13   \n",
       "1   50  Self-emp-not-inc   83311  Bachelors             13   \n",
       "2   38           Private  215646    HS-grad              9   \n",
       "3   53           Private  234721       11th              7   \n",
       "4   28           Private  338409  Bachelors             13   \n",
       "\n",
       "       marital-status         occupation   relationship   race     sex  \\\n",
       "0       Never-married       Adm-clerical  Not-in-family  White    Male   \n",
       "1  Married-civ-spouse    Exec-managerial        Husband  White    Male   \n",
       "2            Divorced  Handlers-cleaners  Not-in-family  White    Male   \n",
       "3  Married-civ-spouse  Handlers-cleaners        Husband  Black    Male   \n",
       "4  Married-civ-spouse     Prof-specialty           Wife  Black  Female   \n",
       "\n",
       "   capital-gain  capital-loss  hours-per-week native-country salary  \n",
       "0          2174             0              40  United-States  <=50K  \n",
       "1             0             0              13  United-States  <=50K  \n",
       "2             0             0              40  United-States  <=50K  \n",
       "3             0             0              40  United-States  <=50K  \n",
       "4             0             0              40           Cuba  <=50K  "
      ]
     },
     "execution_count": 143,
     "metadata": {},
     "output_type": "execute_result"
    }
   ],
   "source": [
    "data = pd.read_csv('adult.data.csv')\n",
    "data.head()"
   ]
  },
  {
   "cell_type": "markdown",
   "metadata": {},
   "source": [
    "**Определите размерность данных: сколько наблюдений и сколько признаков**"
   ]
  },
  {
   "cell_type": "code",
   "execution_count": 144,
   "metadata": {},
   "outputs": [
    {
     "name": "stderr",
     "output_type": "stream",
     "text": [
      "ic| cases: 32561\n",
      "ic| signs: 15\n"
     ]
    },
    {
     "data": {
      "text/plain": [
       "15"
      ]
     },
     "execution_count": 144,
     "metadata": {},
     "output_type": "execute_result"
    }
   ],
   "source": [
    "# Ваш код здесь\n",
    "cases, signs = data.shape\n",
    "\n",
    "ic(cases)\n",
    "ic(signs)"
   ]
  },
  {
   "cell_type": "markdown",
   "metadata": {},
   "source": [
    "**Список признаков**  \n",
    "**На источнике описание признаков скудное, но названия почти у всех признаков говорящие**"
   ]
  },
  {
   "cell_type": "code",
   "execution_count": 145,
   "metadata": {
    "scrolled": false
   },
   "outputs": [
    {
     "name": "stdout",
     "output_type": "stream",
     "text": [
      "age\n",
      "workclass\n",
      "fnlwgt\n",
      "education\n",
      "education-num\n",
      "marital-status\n",
      "occupation\n",
      "relationship\n",
      "race\n",
      "sex\n",
      "capital-gain\n",
      "capital-loss\n",
      "hours-per-week\n",
      "native-country\n",
      "salary\n"
     ]
    }
   ],
   "source": [
    "print('\\n'.join(data.columns.values.tolist()))"
   ]
  },
  {
   "cell_type": "markdown",
   "metadata": {},
   "source": [
    "**Проверьте, присутствуют ли в данных [пропущенные значения](http://pandas.pydata.org/pandas-docs/stable/missing_data.html). Сколько? В каких признаках?**  \n",
    "**Удалите наблюдения с пропущенными значениями**"
   ]
  },
  {
   "cell_type": "code",
   "execution_count": 146,
   "metadata": {
    "scrolled": false
   },
   "outputs": [
    {
     "name": "stdout",
     "output_type": "stream",
     "text": [
      "cases num before: 32561\n",
      "cases num after: 30162\n"
     ]
    }
   ],
   "source": [
    "# Ваш код здесь\n",
    "\n",
    "tmp_data = data.copy()\n",
    "print('cases num before:', tmp_data.shape[0])\n",
    "a = []\n",
    "for i in range(tmp_data.shape[0]):\n",
    "    tmp_data.loc[i] = tmp_data.loc[i].values == '?'\n",
    "    if tmp_data.loc[i].any():\n",
    "        a.append(i)\n",
    "data = data.drop(tmp_data.index[a])\n",
    "print('cases num after:', data.shape[0])"
   ]
  },
  {
   "cell_type": "markdown",
   "metadata": {},
   "source": [
    "**Для каждого признака определите, к какому типу он относится. При необходимости, приведите признак к определенному вами типу.**"
   ]
  },
  {
   "cell_type": "code",
   "execution_count": 147,
   "metadata": {},
   "outputs": [
    {
     "data": {
      "text/plain": [
       "age                int64\n",
       "workclass         object\n",
       "fnlwgt             int64\n",
       "education         object\n",
       "education-num      int64\n",
       "marital-status    object\n",
       "occupation        object\n",
       "relationship      object\n",
       "race              object\n",
       "sex               object\n",
       "capital-gain       int64\n",
       "capital-loss       int64\n",
       "hours-per-week     int64\n",
       "native-country    object\n",
       "salary            object\n",
       "dtype: object"
      ]
     },
     "execution_count": 147,
     "metadata": {},
     "output_type": "execute_result"
    }
   ],
   "source": [
    "tmp_data = data.copy()\n",
    "tmp_data.dtypes"
   ]
  },
  {
   "cell_type": "code",
   "execution_count": 148,
   "metadata": {},
   "outputs": [
    {
     "data": {
      "text/plain": [
       "age                  int32\n",
       "workclass         category\n",
       "fnlwgt               int64\n",
       "education         category\n",
       "education-num        int64\n",
       "marital-status    category\n",
       "occupation        category\n",
       "relationship      category\n",
       "race              category\n",
       "sex               category\n",
       "capital-gain         int64\n",
       "capital-loss         int64\n",
       "hours-per-week       int64\n",
       "native-country    category\n",
       "salary            category\n",
       "dtype: object"
      ]
     },
     "execution_count": 148,
     "metadata": {},
     "output_type": "execute_result"
    }
   ],
   "source": [
    "# Уменельшение размеров памяти целых чисел\n",
    "tmp_data['age'] = tmp_data['age'].astype('int32')\n",
    "for x in tmp_data:\n",
    "    if str(tmp_data[x].dtype) == 'object':\n",
    "        tmp_data[x] = tmp_data[x].astype('category')\n",
    "tmp_data.dtypes"
   ]
  },
  {
   "cell_type": "markdown",
   "metadata": {},
   "source": [
    "**Для категориальных признаков выведите список категорий**"
   ]
  },
  {
   "cell_type": "code",
   "execution_count": 149,
   "metadata": {
    "scrolled": true
   },
   "outputs": [
    {
     "name": "stdout",
     "output_type": "stream",
     "text": [
      "workclass:\n",
      "  State-gov\n",
      "  Self-emp-not-inc\n",
      "  Private\n",
      "  Federal-gov\n",
      "  Local-gov\n",
      "  Self-emp-inc\n",
      "  Without-pay\n",
      "\n",
      "education:\n",
      "  Bachelors\n",
      "  HS-grad\n",
      "  11th\n",
      "  Masters\n",
      "  9th\n",
      "  Some-college\n",
      "  Assoc-acdm\n",
      "  7th-8th\n",
      "  Doctorate\n",
      "  Assoc-voc\n",
      "  Prof-school\n",
      "  5th-6th\n",
      "  10th\n",
      "  Preschool\n",
      "  12th\n",
      "  1st-4th\n",
      "\n",
      "marital-status:\n",
      "  Never-married\n",
      "  Married-civ-spouse\n",
      "  Divorced\n",
      "  Married-spouse-absent\n",
      "  Separated\n",
      "  Married-AF-spouse\n",
      "  Widowed\n",
      "\n",
      "occupation:\n",
      "  Adm-clerical\n",
      "  Exec-managerial\n",
      "  Handlers-cleaners\n",
      "  Prof-specialty\n",
      "  Other-service\n",
      "  Sales\n",
      "  Transport-moving\n",
      "  Farming-fishing\n",
      "  Machine-op-inspct\n",
      "  Tech-support\n",
      "  Craft-repair\n",
      "  Protective-serv\n",
      "  Armed-Forces\n",
      "  Priv-house-serv\n",
      "\n",
      "relationship:\n",
      "  Not-in-family\n",
      "  Husband\n",
      "  Wife\n",
      "  Own-child\n",
      "  Unmarried\n",
      "  Other-relative\n",
      "\n",
      "race:\n",
      "  White\n",
      "  Black\n",
      "  Asian-Pac-Islander\n",
      "  Amer-Indian-Eskimo\n",
      "  Other\n",
      "\n",
      "sex:\n",
      "  Male\n",
      "  Female\n",
      "\n",
      "native-country:\n",
      "  United-States\n",
      "  Cuba\n",
      "  Jamaica\n",
      "  India\n",
      "  Mexico\n",
      "  Puerto-Rico\n",
      "  Honduras\n",
      "  England\n",
      "  Canada\n",
      "  Germany\n",
      "  Iran\n",
      "  Philippines\n",
      "  Poland\n",
      "  Columbia\n",
      "  Cambodia\n",
      "  Thailand\n",
      "  Ecuador\n",
      "  Laos\n",
      "  Taiwan\n",
      "  Haiti\n",
      "  Portugal\n",
      "  Dominican-Republic\n",
      "  El-Salvador\n",
      "  France\n",
      "  Guatemala\n",
      "  Italy\n",
      "  China\n",
      "  South\n",
      "  Japan\n",
      "  Yugoslavia\n",
      "  Peru\n",
      "  Outlying-US(Guam-USVI-etc)\n",
      "  Scotland\n",
      "  Trinadad&Tobago\n",
      "  Greece\n",
      "  Nicaragua\n",
      "  Vietnam\n",
      "  Hong\n",
      "  Ireland\n",
      "  Hungary\n",
      "  Holand-Netherlands\n",
      "\n",
      "salary:\n",
      "  <=50K\n",
      "  >50K\n",
      "\n"
     ]
    }
   ],
   "source": [
    "# Ваш код здесь\n",
    "for x in tmp_data:\n",
    "    if str(tmp_data[x].dtype) == 'category':\n",
    "        print(f'{x}:')\n",
    "        print('  ' + '\\n  '.join(list(tmp_data[x].unique())), end='\\n\\n')"
   ]
  },
  {
   "cell_type": "markdown",
   "metadata": {},
   "source": [
    "### Используя функции и методы Pandas, ответьте на вопросы:"
   ]
  },
  {
   "cell_type": "markdown",
   "metadata": {},
   "source": [
    "**1. Сколько мужчин и женщин (признак *sex*) представлено в этом наборе данных?**"
   ]
  },
  {
   "cell_type": "code",
   "execution_count": 150,
   "metadata": {},
   "outputs": [
    {
     "name": "stdout",
     "output_type": "stream",
     "text": [
      "Men: 20380\n",
      "Women: 9782\n"
     ]
    }
   ],
   "source": [
    "# Ваш код здесь\n",
    "tmp_data = data.copy()\n",
    "men_num = tmp_data.loc[tmp_data['sex'] == 'Male']['sex'].count()\n",
    "print(\"Men:\", men_num)\n",
    "print(\"Women:\", tmp_data.shape[0] - men_num)"
   ]
  },
  {
   "cell_type": "markdown",
   "metadata": {},
   "source": [
    "**2. Каков средний возраст (признак *age*) женщин?**"
   ]
  },
  {
   "cell_type": "code",
   "execution_count": 151,
   "metadata": {
    "scrolled": false
   },
   "outputs": [
    {
     "name": "stdout",
     "output_type": "stream",
     "text": [
      "average female age: 36.8834594152525\n"
     ]
    }
   ],
   "source": [
    "# Ваш код здесь\n",
    "tmp_data = data.copy()\n",
    "tmp_data = tmp_data.loc[tmp_data['sex'] == 'Female']\n",
    "print('average female age:', tmp_data['age'].sum() / tmp_data.shape[0])"
   ]
  },
  {
   "cell_type": "markdown",
   "metadata": {},
   "source": [
    "**3. Какова доля граждан Германии (признак *native-country*)?**"
   ]
  },
  {
   "cell_type": "code",
   "execution_count": 152,
   "metadata": {},
   "outputs": [
    {
     "name": "stdout",
     "output_type": "stream",
     "text": [
      "0.42% (128/30162)\n"
     ]
    }
   ],
   "source": [
    "# Ваш код здесь Germany\n",
    "tmp_data = data.copy()\n",
    "all_people = tmp_data.shape[0]\n",
    "germans = tmp_data.loc[tmp_data['native-country'] == 'Germany']['age'].count()\n",
    "print(f'{(germans * 100 / all_people):.2f}%', end=' ')\n",
    "print(f'({germans}/{all_people})')"
   ]
  },
  {
   "cell_type": "markdown",
   "metadata": {},
   "source": [
    "**4. Постройте гистограмму распределения (*bar plot*) образования людей (признак *education*).**"
   ]
  },
  {
   "cell_type": "code",
   "execution_count": 153,
   "metadata": {
    "scrolled": false
   },
   "outputs": [
    {
     "data": {
      "text/plain": [
       "<AxesSubplot:xlabel='education', ylabel='count'>"
      ]
     },
     "execution_count": 153,
     "metadata": {},
     "output_type": "execute_result"
    },
    {
     "data": {
      "image/png": "[encoded data removed]",
      "text/plain": [
       "<Figure size 1440x720 with 1 Axes>"
      ]
     },
     "metadata": {
      "needs_background": "light"
     },
     "output_type": "display_data"
    }
   ],
   "source": [
    "# Ваш код здесь\n",
    "plt.figure(figsize=(20, 10))\n",
    "sns.countplot(x='education', data=data)"
   ]
  },
  {
   "cell_type": "markdown",
   "metadata": {},
   "source": [
    "__5. Каковы средние значения и среднеквадратичные отклонения возраста тех, кто получает более 50K в год (признак _salary_) и тех, кто получает менее 50K в год?__  \n",
    "  \n",
    "**Tip:** Используйте методы `groupby` и `agg`."
   ]
  },
  {
   "cell_type": "code",
   "execution_count": 154,
   "metadata": {},
   "outputs": [
    {
     "data": {
      "text/html": [
       "<div>\n",
       "<style scoped>\n",
       "    .dataframe tbody tr th:only-of-type {\n",
       "        vertical-align: middle;\n",
       "    }\n",
       "\n",
       "    .dataframe tbody tr th {\n",
       "        vertical-align: top;\n",
       "    }\n",
       "\n",
       "    .dataframe thead th {\n",
       "        text-align: right;\n",
       "    }\n",
       "</style>\n",
       "<table border=\"1\" class=\"dataframe\">\n",
       "  <thead>\n",
       "    <tr style=\"text-align: right;\">\n",
       "      <th></th>\n",
       "      <th>mean</th>\n",
       "      <th>var</th>\n",
       "    </tr>\n",
       "    <tr>\n",
       "      <th>salary</th>\n",
       "      <th></th>\n",
       "      <th></th>\n",
       "    </tr>\n",
       "  </thead>\n",
       "  <tbody>\n",
       "    <tr>\n",
       "      <th>&lt;=50K</th>\n",
       "      <td>36.60806</td>\n",
       "      <td>181.296295</td>\n",
       "    </tr>\n",
       "    <tr>\n",
       "      <th>&gt;50K</th>\n",
       "      <td>43.95911</td>\n",
       "      <td>105.465359</td>\n",
       "    </tr>\n",
       "  </tbody>\n",
       "</table>\n",
       "</div>"
      ],
      "text/plain": [
       "            mean         var\n",
       "salary                      \n",
       "<=50K   36.60806  181.296295\n",
       ">50K    43.95911  105.465359"
      ]
     },
     "execution_count": 154,
     "metadata": {},
     "output_type": "execute_result"
    }
   ],
   "source": [
    "# Ваш код здесь\n",
    "tmp_data = data.copy().groupby('salary')['age'].agg([np.mean, np.var])\n",
    "tmp_data.head()"
   ]
  },
  {
   "cell_type": "markdown",
   "metadata": {},
   "source": [
    "**6. Правда ли, что люди, которые получают больше 50k, имеют как минимум высшее образование? (признак *education - Bachelors, Prof-school, Assoc-acdm, Assoc-voc, Masters* или *Doctorate*)**  \n",
    "  \n",
    "**Tip:** Нужно написать код (может хватить и одного выражения), который проверяет выполнение условия и возвращает `True` если условие выполняется (т.е. ответ на вопрос - да, правда) и `False` иначе."
   ]
  },
  {
   "cell_type": "code",
   "execution_count": 155,
   "metadata": {},
   "outputs": [
    {
     "name": "stdout",
     "output_type": "stream",
     "text": [
      "False\n"
     ]
    }
   ],
   "source": [
    "# Ваш код здесь\n",
    "tmp_data = data.copy()\n",
    "td1 = tmp_data.loc[tmp_data['salary'] == '>50K']\n",
    "td2 = td1.loc[td1['education'].isin(('Bachelors', 'Prof-school', 'Assoc-acdm', 'Assoc-voc', 'Masters', 'Doctorate'))]\n",
    "# print(td1.shape[0], td2.shape[0])\n",
    "print(td1.shape[0] == td2.shape[0])"
   ]
  },
  {
   "cell_type": "markdown",
   "metadata": {},
   "source": [
    "**7. Выведите статистику возраста для каждой расы (признак *race*) и каждого пола. Используйте *groupby* и *describe*. Найдите таким образом максимальный возраст мужчин расы *Amer-Indian-Eskimo*.**  \n",
    "  \n",
    "**Tip:** Максимальный возраст мужчин расы *Amer-Indian-Eskimo* необходимо получить из таблицы, полученной в результате использования методов *groupby* и *describe*. Почитайте про [MultiIndex](https://pandas.pydata.org/pandas-docs/stable/advanced.html)."
   ]
  },
  {
   "cell_type": "code",
   "execution_count": 156,
   "metadata": {},
   "outputs": [
    {
     "data": {
      "text/html": [
       "<div>\n",
       "<style scoped>\n",
       "    .dataframe tbody tr th:only-of-type {\n",
       "        vertical-align: middle;\n",
       "    }\n",
       "\n",
       "    .dataframe tbody tr th {\n",
       "        vertical-align: top;\n",
       "    }\n",
       "\n",
       "    .dataframe thead tr th {\n",
       "        text-align: left;\n",
       "    }\n",
       "\n",
       "    .dataframe thead tr:last-of-type th {\n",
       "        text-align: right;\n",
       "    }\n",
       "</style>\n",
       "<table border=\"1\" class=\"dataframe\">\n",
       "  <thead>\n",
       "    <tr>\n",
       "      <th></th>\n",
       "      <th></th>\n",
       "      <th colspan=\"8\" halign=\"left\">age</th>\n",
       "      <th colspan=\"2\" halign=\"left\">fnlwgt</th>\n",
       "      <th>...</th>\n",
       "      <th colspan=\"2\" halign=\"left\">capital-loss</th>\n",
       "      <th colspan=\"8\" halign=\"left\">hours-per-week</th>\n",
       "    </tr>\n",
       "    <tr>\n",
       "      <th></th>\n",
       "      <th></th>\n",
       "      <th>count</th>\n",
       "      <th>mean</th>\n",
       "      <th>std</th>\n",
       "      <th>min</th>\n",
       "      <th>25%</th>\n",
       "      <th>50%</th>\n",
       "      <th>75%</th>\n",
       "      <th>max</th>\n",
       "      <th>count</th>\n",
       "      <th>mean</th>\n",
       "      <th>...</th>\n",
       "      <th>75%</th>\n",
       "      <th>max</th>\n",
       "      <th>count</th>\n",
       "      <th>mean</th>\n",
       "      <th>std</th>\n",
       "      <th>min</th>\n",
       "      <th>25%</th>\n",
       "      <th>50%</th>\n",
       "      <th>75%</th>\n",
       "      <th>max</th>\n",
       "    </tr>\n",
       "    <tr>\n",
       "      <th>race</th>\n",
       "      <th>sex</th>\n",
       "      <th></th>\n",
       "      <th></th>\n",
       "      <th></th>\n",
       "      <th></th>\n",
       "      <th></th>\n",
       "      <th></th>\n",
       "      <th></th>\n",
       "      <th></th>\n",
       "      <th></th>\n",
       "      <th></th>\n",
       "      <th></th>\n",
       "      <th></th>\n",
       "      <th></th>\n",
       "      <th></th>\n",
       "      <th></th>\n",
       "      <th></th>\n",
       "      <th></th>\n",
       "      <th></th>\n",
       "      <th></th>\n",
       "      <th></th>\n",
       "      <th></th>\n",
       "    </tr>\n",
       "  </thead>\n",
       "  <tbody>\n",
       "    <tr>\n",
       "      <th rowspan=\"2\" valign=\"top\">Amer-Indian-Eskimo</th>\n",
       "      <th>Female</th>\n",
       "      <td>107.0</td>\n",
       "      <td>37.252336</td>\n",
       "      <td>12.933862</td>\n",
       "      <td>17.0</td>\n",
       "      <td>28.00</td>\n",
       "      <td>37.0</td>\n",
       "      <td>46.0</td>\n",
       "      <td>80.0</td>\n",
       "      <td>107.0</td>\n",
       "      <td>114351.317757</td>\n",
       "      <td>...</td>\n",
       "      <td>0.0</td>\n",
       "      <td>1721.0</td>\n",
       "      <td>107.0</td>\n",
       "      <td>37.018692</td>\n",
       "      <td>10.867106</td>\n",
       "      <td>4.0</td>\n",
       "      <td>35.0</td>\n",
       "      <td>40.0</td>\n",
       "      <td>40.0</td>\n",
       "      <td>84.0</td>\n",
       "    </tr>\n",
       "    <tr>\n",
       "      <th>Male</th>\n",
       "      <td>179.0</td>\n",
       "      <td>36.430168</td>\n",
       "      <td>10.802589</td>\n",
       "      <td>17.0</td>\n",
       "      <td>28.00</td>\n",
       "      <td>35.0</td>\n",
       "      <td>44.0</td>\n",
       "      <td>71.0</td>\n",
       "      <td>179.0</td>\n",
       "      <td>128955.893855</td>\n",
       "      <td>...</td>\n",
       "      <td>0.0</td>\n",
       "      <td>1980.0</td>\n",
       "      <td>179.0</td>\n",
       "      <td>42.463687</td>\n",
       "      <td>11.333681</td>\n",
       "      <td>8.0</td>\n",
       "      <td>40.0</td>\n",
       "      <td>40.0</td>\n",
       "      <td>45.0</td>\n",
       "      <td>84.0</td>\n",
       "    </tr>\n",
       "    <tr>\n",
       "      <th rowspan=\"2\" valign=\"top\">Asian-Pac-Islander</th>\n",
       "      <th>Female</th>\n",
       "      <td>294.0</td>\n",
       "      <td>35.363946</td>\n",
       "      <td>11.819758</td>\n",
       "      <td>17.0</td>\n",
       "      <td>25.25</td>\n",
       "      <td>34.0</td>\n",
       "      <td>44.0</td>\n",
       "      <td>75.0</td>\n",
       "      <td>294.0</td>\n",
       "      <td>149141.653061</td>\n",
       "      <td>...</td>\n",
       "      <td>0.0</td>\n",
       "      <td>2258.0</td>\n",
       "      <td>294.0</td>\n",
       "      <td>37.857143</td>\n",
       "      <td>10.864665</td>\n",
       "      <td>2.0</td>\n",
       "      <td>35.0</td>\n",
       "      <td>40.0</td>\n",
       "      <td>40.0</td>\n",
       "      <td>80.0</td>\n",
       "    </tr>\n",
       "    <tr>\n",
       "      <th>Male</th>\n",
       "      <td>601.0</td>\n",
       "      <td>39.156406</td>\n",
       "      <td>12.772451</td>\n",
       "      <td>18.0</td>\n",
       "      <td>29.00</td>\n",
       "      <td>37.0</td>\n",
       "      <td>47.0</td>\n",
       "      <td>90.0</td>\n",
       "      <td>601.0</td>\n",
       "      <td>164325.003328</td>\n",
       "      <td>...</td>\n",
       "      <td>0.0</td>\n",
       "      <td>2457.0</td>\n",
       "      <td>601.0</td>\n",
       "      <td>41.793677</td>\n",
       "      <td>11.945879</td>\n",
       "      <td>1.0</td>\n",
       "      <td>40.0</td>\n",
       "      <td>40.0</td>\n",
       "      <td>45.0</td>\n",
       "      <td>99.0</td>\n",
       "    </tr>\n",
       "    <tr>\n",
       "      <th rowspan=\"2\" valign=\"top\">Black</th>\n",
       "      <th>Female</th>\n",
       "      <td>1399.0</td>\n",
       "      <td>38.042888</td>\n",
       "      <td>12.320976</td>\n",
       "      <td>17.0</td>\n",
       "      <td>28.00</td>\n",
       "      <td>37.0</td>\n",
       "      <td>46.0</td>\n",
       "      <td>90.0</td>\n",
       "      <td>1399.0</td>\n",
       "      <td>213195.729807</td>\n",
       "      <td>...</td>\n",
       "      <td>0.0</td>\n",
       "      <td>3004.0</td>\n",
       "      <td>1399.0</td>\n",
       "      <td>37.015011</td>\n",
       "      <td>9.394345</td>\n",
       "      <td>2.0</td>\n",
       "      <td>35.0</td>\n",
       "      <td>40.0</td>\n",
       "      <td>40.0</td>\n",
       "      <td>99.0</td>\n",
       "    </tr>\n",
       "    <tr>\n",
       "      <th>Male</th>\n",
       "      <td>1418.0</td>\n",
       "      <td>37.681241</td>\n",
       "      <td>12.516296</td>\n",
       "      <td>17.0</td>\n",
       "      <td>28.00</td>\n",
       "      <td>36.0</td>\n",
       "      <td>46.0</td>\n",
       "      <td>90.0</td>\n",
       "      <td>1418.0</td>\n",
       "      <td>244209.997179</td>\n",
       "      <td>...</td>\n",
       "      <td>0.0</td>\n",
       "      <td>2559.0</td>\n",
       "      <td>1418.0</td>\n",
       "      <td>40.311707</td>\n",
       "      <td>10.751909</td>\n",
       "      <td>1.0</td>\n",
       "      <td>40.0</td>\n",
       "      <td>40.0</td>\n",
       "      <td>40.0</td>\n",
       "      <td>99.0</td>\n",
       "    </tr>\n",
       "    <tr>\n",
       "      <th rowspan=\"2\" valign=\"top\">Other</th>\n",
       "      <th>Female</th>\n",
       "      <td>87.0</td>\n",
       "      <td>31.908046</td>\n",
       "      <td>10.216986</td>\n",
       "      <td>17.0</td>\n",
       "      <td>24.00</td>\n",
       "      <td>29.0</td>\n",
       "      <td>39.5</td>\n",
       "      <td>58.0</td>\n",
       "      <td>87.0</td>\n",
       "      <td>169234.091954</td>\n",
       "      <td>...</td>\n",
       "      <td>0.0</td>\n",
       "      <td>1590.0</td>\n",
       "      <td>87.0</td>\n",
       "      <td>36.827586</td>\n",
       "      <td>9.821911</td>\n",
       "      <td>6.0</td>\n",
       "      <td>32.0</td>\n",
       "      <td>40.0</td>\n",
       "      <td>40.0</td>\n",
       "      <td>65.0</td>\n",
       "    </tr>\n",
       "    <tr>\n",
       "      <th>Male</th>\n",
       "      <td>144.0</td>\n",
       "      <td>34.625000</td>\n",
       "      <td>11.280204</td>\n",
       "      <td>17.0</td>\n",
       "      <td>26.00</td>\n",
       "      <td>32.0</td>\n",
       "      <td>42.0</td>\n",
       "      <td>77.0</td>\n",
       "      <td>144.0</td>\n",
       "      <td>211805.701389</td>\n",
       "      <td>...</td>\n",
       "      <td>0.0</td>\n",
       "      <td>2179.0</td>\n",
       "      <td>144.0</td>\n",
       "      <td>42.097222</td>\n",
       "      <td>11.163326</td>\n",
       "      <td>12.0</td>\n",
       "      <td>40.0</td>\n",
       "      <td>40.0</td>\n",
       "      <td>40.0</td>\n",
       "      <td>98.0</td>\n",
       "    </tr>\n",
       "    <tr>\n",
       "      <th rowspan=\"2\" valign=\"top\">White</th>\n",
       "      <th>Female</th>\n",
       "      <td>7895.0</td>\n",
       "      <td>36.784421</td>\n",
       "      <td>13.814467</td>\n",
       "      <td>17.0</td>\n",
       "      <td>25.00</td>\n",
       "      <td>35.0</td>\n",
       "      <td>46.0</td>\n",
       "      <td>90.0</td>\n",
       "      <td>7895.0</td>\n",
       "      <td>183617.754908</td>\n",
       "      <td>...</td>\n",
       "      <td>0.0</td>\n",
       "      <td>4356.0</td>\n",
       "      <td>7895.0</td>\n",
       "      <td>36.883091</td>\n",
       "      <td>11.797662</td>\n",
       "      <td>1.0</td>\n",
       "      <td>32.0</td>\n",
       "      <td>40.0</td>\n",
       "      <td>40.0</td>\n",
       "      <td>99.0</td>\n",
       "    </tr>\n",
       "    <tr>\n",
       "      <th>Male</th>\n",
       "      <td>18038.0</td>\n",
       "      <td>39.366781</td>\n",
       "      <td>12.918661</td>\n",
       "      <td>17.0</td>\n",
       "      <td>29.00</td>\n",
       "      <td>38.0</td>\n",
       "      <td>48.0</td>\n",
       "      <td>90.0</td>\n",
       "      <td>18038.0</td>\n",
       "      <td>188890.108992</td>\n",
       "      <td>...</td>\n",
       "      <td>0.0</td>\n",
       "      <td>3770.0</td>\n",
       "      <td>18038.0</td>\n",
       "      <td>43.095354</td>\n",
       "      <td>11.815988</td>\n",
       "      <td>1.0</td>\n",
       "      <td>40.0</td>\n",
       "      <td>40.0</td>\n",
       "      <td>50.0</td>\n",
       "      <td>99.0</td>\n",
       "    </tr>\n",
       "  </tbody>\n",
       "</table>\n",
       "<p>10 rows × 48 columns</p>\n",
       "</div>"
      ],
      "text/plain": [
       "                               age                                           \\\n",
       "                             count       mean        std   min    25%   50%   \n",
       "race               sex                                                        \n",
       "Amer-Indian-Eskimo Female    107.0  37.252336  12.933862  17.0  28.00  37.0   \n",
       "                   Male      179.0  36.430168  10.802589  17.0  28.00  35.0   \n",
       "Asian-Pac-Islander Female    294.0  35.363946  11.819758  17.0  25.25  34.0   \n",
       "                   Male      601.0  39.156406  12.772451  18.0  29.00  37.0   \n",
       "Black              Female   1399.0  38.042888  12.320976  17.0  28.00  37.0   \n",
       "                   Male     1418.0  37.681241  12.516296  17.0  28.00  36.0   \n",
       "Other              Female     87.0  31.908046  10.216986  17.0  24.00  29.0   \n",
       "                   Male      144.0  34.625000  11.280204  17.0  26.00  32.0   \n",
       "White              Female   7895.0  36.784421  13.814467  17.0  25.00  35.0   \n",
       "                   Male    18038.0  39.366781  12.918661  17.0  29.00  38.0   \n",
       "\n",
       "                                        fnlwgt                 ...  \\\n",
       "                            75%   max    count           mean  ...   \n",
       "race               sex                                         ...   \n",
       "Amer-Indian-Eskimo Female  46.0  80.0    107.0  114351.317757  ...   \n",
       "                   Male    44.0  71.0    179.0  128955.893855  ...   \n",
       "Asian-Pac-Islander Female  44.0  75.0    294.0  149141.653061  ...   \n",
       "                   Male    47.0  90.0    601.0  164325.003328  ...   \n",
       "Black              Female  46.0  90.0   1399.0  213195.729807  ...   \n",
       "                   Male    46.0  90.0   1418.0  244209.997179  ...   \n",
       "Other              Female  39.5  58.0     87.0  169234.091954  ...   \n",
       "                   Male    42.0  77.0    144.0  211805.701389  ...   \n",
       "White              Female  46.0  90.0   7895.0  183617.754908  ...   \n",
       "                   Male    48.0  90.0  18038.0  188890.108992  ...   \n",
       "\n",
       "                          capital-loss         hours-per-week             \\\n",
       "                                   75%     max          count       mean   \n",
       "race               sex                                                     \n",
       "Amer-Indian-Eskimo Female          0.0  1721.0          107.0  37.018692   \n",
       "                   Male            0.0  1980.0          179.0  42.463687   \n",
       "Asian-Pac-Islander Female          0.0  2258.0          294.0  37.857143   \n",
       "                   Male            0.0  2457.0          601.0  41.793677   \n",
       "Black              Female          0.0  3004.0         1399.0  37.015011   \n",
       "                   Male            0.0  2559.0         1418.0  40.311707   \n",
       "Other              Female          0.0  1590.0           87.0  36.827586   \n",
       "                   Male            0.0  2179.0          144.0  42.097222   \n",
       "White              Female          0.0  4356.0         7895.0  36.883091   \n",
       "                   Male            0.0  3770.0        18038.0  43.095354   \n",
       "\n",
       "                                                                    \n",
       "                                 std   min   25%   50%   75%   max  \n",
       "race               sex                                              \n",
       "Amer-Indian-Eskimo Female  10.867106   4.0  35.0  40.0  40.0  84.0  \n",
       "                   Male    11.333681   8.0  40.0  40.0  45.0  84.0  \n",
       "Asian-Pac-Islander Female  10.864665   2.0  35.0  40.0  40.0  80.0  \n",
       "                   Male    11.945879   1.0  40.0  40.0  45.0  99.0  \n",
       "Black              Female   9.394345   2.0  35.0  40.0  40.0  99.0  \n",
       "                   Male    10.751909   1.0  40.0  40.0  40.0  99.0  \n",
       "Other              Female   9.821911   6.0  32.0  40.0  40.0  65.0  \n",
       "                   Male    11.163326  12.0  40.0  40.0  40.0  98.0  \n",
       "White              Female  11.797662   1.0  32.0  40.0  40.0  99.0  \n",
       "                   Male    11.815988   1.0  40.0  40.0  50.0  99.0  \n",
       "\n",
       "[10 rows x 48 columns]"
      ]
     },
     "execution_count": 156,
     "metadata": {},
     "output_type": "execute_result"
    }
   ],
   "source": [
    "# Ваш код здесь\n",
    "tmp_data = data.copy()\n",
    "ra_data = tmp_data.groupby(['race', 'sex'])\n",
    "ra_data.describe()\n",
    "# Продолжение этого задания ниже"
   ]
  },
  {
   "cell_type": "code",
   "execution_count": 157,
   "metadata": {},
   "outputs": [
    {
     "data": {
      "text/plain": [
       "sex\n",
       "Female    80.0\n",
       "Male      71.0\n",
       "Name: (age, max), dtype: float64"
      ]
     },
     "execution_count": 157,
     "metadata": {},
     "output_type": "execute_result"
    }
   ],
   "source": [
    "\n",
    "ra_data.describe()['age', 'max']['Amer-Indian-Eskimo']"
   ]
  },
  {
   "cell_type": "markdown",
   "metadata": {},
   "source": [
    "**8. Среди кого больше доля зарабатывающих много (>50K): среди женатых или холостых мужчин (признак *marital-status*)? Женатыми считаем тех, у кого *marital-status* начинается с *Married* (Married-civ-spouse, Married-spouse-absent или Married-AF-spouse), остальных считаем холостыми.**"
   ]
  },
  {
   "cell_type": "code",
   "execution_count": 158,
   "metadata": {},
   "outputs": [
    {
     "name": "stdout",
     "output_type": "stream",
     "text": [
      "Married men is more often get big salary (5050)\n"
     ]
    }
   ],
   "source": [
    "# Ваш код здесь\n",
    "tmp_data = data.copy()\n",
    "people_num = tmp_data.shape[0]\n",
    "tmp_data = tmp_data.loc[(tmp_data['sex'] == 'Male') & (tmp_data['salary'] == '>50K')]\n",
    "cool_men_num = tmp_data.shape[0]\n",
    "tmp_data = tmp_data.loc[tmp_data['marital-status'].\n",
    "                      isin(['Married-civ-spouse', \n",
    "                            'Married-spouse-absent',\n",
    "                            'Married-AF-spouse'])]\n",
    "sm_num = tmp_data.shape[0]\n",
    "sl_num = cool_men_num - sm_num\n",
    "answer = sm_num-sl_num\n",
    "if answer > 0:\n",
    "    print('Married men is more often get big salary', f'({answer})')\n",
    "elif answer < 0:\n",
    "    print('Not married men is more often get big salary', f'({-answer})')\n",
    "else:\n",
    "    print('They get a same salary')\n"
   ]
  },
  {
   "cell_type": "markdown",
   "metadata": {},
   "source": [
    "**9. Какое максимальное число часов человек работает в неделю (признак *hours-per-week*)? Сколько людей работают такое количество часов и каков среди них процент зарабатывающих много?**"
   ]
  },
  {
   "cell_type": "code",
   "execution_count": 159,
   "metadata": {},
   "outputs": [
    {
     "name": "stdout",
     "output_type": "stream",
     "text": [
      "max hours: 99\n",
      "percent: 32.05%\n"
     ]
    }
   ],
   "source": [
    "# Ваш код здесь\n",
    "tmp_data = data.copy()\n",
    "max_h = tmp_data['hours-per-week'].max()\n",
    "tmp_data = tmp_data.loc[tmp_data['hours-per-week'] == max_h]\n",
    "num = tmp_data.shape[0]\n",
    "tmp_data = tmp_data.loc[tmp_data['salary'] == '>50K']\n",
    "cnum = tmp_data.shape[0]\n",
    "print('max hours:', max_h)\n",
    "print(f'percent: {cnum * 100 / num:.2f}%')"
   ]
  },
  {
   "cell_type": "markdown",
   "metadata": {},
   "source": [
    "**10. Посчитайте среднее время работы (*hours-per-week*) зарабатывающих мало и много (*salary*) для каждой страны (*native-country*).**  \n",
    "  \n",
    "**Tip:** Необходимо построить `barplot` для каждой страны с разбивкой по признаку *salary*. Используйте [crosstab](https://pandas.pydata.org/pandas-docs/stable/generated/pandas.crosstab.html).  \n",
    "Пример графика: ![](task_10_example.png)"
   ]
  },
  {
   "cell_type": "code",
   "execution_count": 160,
   "metadata": {},
   "outputs": [
    {
     "name": "stdout",
     "output_type": "stream",
     "text": [
      "country: Cambodia, salary: <=50K\n",
      "average running time: 41.54545454545455\n",
      "\n",
      "country: Cambodia, salary: >50K\n",
      "average running time: 40.0\n",
      "\n",
      "country: Canada, salary: <=50K\n",
      "average running time: 38.70422535211268\n",
      "\n",
      "country: Canada, salary: >50K\n",
      "average running time: 46.94444444444444\n",
      "\n",
      "country: China, salary: <=50K\n",
      "average running time: 38.541666666666664\n",
      "\n",
      "country: China, salary: >50K\n",
      "average running time: 38.9\n",
      "\n",
      "country: Columbia, salary: <=50K\n",
      "average running time: 39.25925925925926\n",
      "\n",
      "country: Columbia, salary: >50K\n",
      "average running time: 50.0\n",
      "\n",
      "country: Cuba, salary: <=50K\n",
      "average running time: 38.71641791044776\n",
      "\n",
      "country: Cuba, salary: >50K\n",
      "average running time: 42.44\n",
      "\n",
      "country: Dominican-Republic, salary: <=50K\n",
      "average running time: 42.13846153846154\n",
      "\n",
      "country: Dominican-Republic, salary: >50K\n",
      "average running time: 47.0\n",
      "\n",
      "country: Ecuador, salary: <=50K\n",
      "average running time: 38.73913043478261\n",
      "\n",
      "country: Ecuador, salary: >50K\n",
      "average running time: 48.75\n",
      "\n",
      "country: El-Salvador, salary: <=50K\n",
      "average running time: 36.20879120879121\n",
      "\n",
      "country: El-Salvador, salary: >50K\n",
      "average running time: 45.0\n",
      "\n",
      "country: England, salary: <=50K\n",
      "average running time: 41.375\n",
      "\n",
      "country: England, salary: >50K\n",
      "average running time: 44.53333333333333\n",
      "\n",
      "country: France, salary: <=50K\n",
      "average running time: 42.86666666666667\n",
      "\n",
      "country: France, salary: >50K\n",
      "average running time: 50.75\n",
      "\n",
      "country: Germany, salary: <=50K\n",
      "average running time: 40.07142857142857\n",
      "\n",
      "country: Germany, salary: >50K\n",
      "average running time: 44.97727272727273\n",
      "\n",
      "country: Greece, salary: <=50K\n",
      "average running time: 41.80952380952381\n",
      "\n",
      "country: Greece, salary: >50K\n",
      "average running time: 50.625\n",
      "\n",
      "country: Guatemala, salary: <=50K\n",
      "average running time: 39.35\n",
      "\n",
      "country: Guatemala, salary: >50K\n",
      "average running time: 36.666666666666664\n",
      "\n",
      "country: Haiti, salary: <=50K\n",
      "average running time: 36.578947368421055\n",
      "\n",
      "country: Haiti, salary: >50K\n",
      "average running time: 42.75\n",
      "\n",
      "country: Holand-Netherlands, salary: <=50K\n",
      "average running time: 40.0\n",
      "\n",
      "country: Honduras, salary: <=50K\n",
      "average running time: 35.90909090909091\n",
      "\n",
      "country: Honduras, salary: >50K\n",
      "average running time: 60.0\n",
      "\n",
      "country: Hong, salary: <=50K\n",
      "average running time: 39.07692307692308\n",
      "\n",
      "country: Hong, salary: >50K\n",
      "average running time: 45.0\n",
      "\n",
      "country: Hungary, salary: <=50K\n",
      "average running time: 31.3\n",
      "\n",
      "country: Hungary, salary: >50K\n",
      "average running time: 50.0\n",
      "\n",
      "country: India, salary: <=50K\n",
      "average running time: 38.233333333333334\n",
      "\n",
      "country: India, salary: >50K\n",
      "average running time: 46.475\n",
      "\n",
      "country: Iran, salary: <=50K\n",
      "average running time: 41.5\n",
      "\n",
      "country: Iran, salary: >50K\n",
      "average running time: 47.5\n",
      "\n",
      "country: Ireland, salary: <=50K\n",
      "average running time: 40.94736842105263\n",
      "\n",
      "country: Ireland, salary: >50K\n",
      "average running time: 48.0\n",
      "\n",
      "country: Italy, salary: <=50K\n",
      "average running time: 40.36363636363637\n",
      "\n",
      "country: Italy, salary: >50K\n",
      "average running time: 45.625\n",
      "\n",
      "country: Jamaica, salary: <=50K\n",
      "average running time: 38.214285714285715\n",
      "\n",
      "country: Jamaica, salary: >50K\n",
      "average running time: 41.1\n",
      "\n",
      "country: Japan, salary: <=50K\n",
      "average running time: 41.333333333333336\n",
      "\n",
      "country: Japan, salary: >50K\n",
      "average running time: 48.08695652173913\n",
      "\n",
      "country: Laos, salary: <=50K\n",
      "average running time: 40.4\n",
      "\n",
      "country: Laos, salary: >50K\n",
      "average running time: 40.0\n",
      "\n",
      "country: Mexico, salary: <=50K\n",
      "average running time: 40.237435008665514\n",
      "\n",
      "country: Mexico, salary: >50K\n",
      "average running time: 46.57575757575758\n",
      "\n",
      "country: Nicaragua, salary: <=50K\n",
      "average running time: 35.96774193548387\n",
      "\n",
      "country: Nicaragua, salary: >50K\n",
      "average running time: 37.5\n",
      "\n",
      "country: Outlying-US(Guam-USVI-etc), salary: <=50K\n",
      "average running time: 41.857142857142854\n",
      "\n",
      "country: Peru, salary: <=50K\n",
      "average running time: 35.607142857142854\n",
      "\n",
      "country: Peru, salary: >50K\n",
      "average running time: 40.0\n",
      "\n",
      "country: Philippines, salary: <=50K\n",
      "average running time: 37.96875\n",
      "\n",
      "country: Philippines, salary: >50K\n",
      "average running time: 43.083333333333336\n",
      "\n",
      "country: Poland, salary: <=50K\n",
      "average running time: 39.355555555555554\n",
      "\n",
      "country: Poland, salary: >50K\n",
      "average running time: 38.90909090909091\n",
      "\n",
      "country: Portugal, salary: <=50K\n",
      "average running time: 42.13333333333333\n",
      "\n",
      "country: Portugal, salary: >50K\n",
      "average running time: 41.5\n",
      "\n",
      "country: Puerto-Rico, salary: <=50K\n",
      "average running time: 38.43298969072165\n",
      "\n",
      "country: Puerto-Rico, salary: >50K\n",
      "average running time: 39.416666666666664\n",
      "\n",
      "country: Scotland, salary: <=50K\n",
      "average running time: 39.44444444444444\n",
      "\n",
      "country: Scotland, salary: >50K\n",
      "average running time: 50.0\n",
      "\n",
      "country: South, salary: <=50K\n",
      "average running time: 42.87719298245614\n",
      "\n",
      "country: South, salary: >50K\n",
      "average running time: 50.92857142857143\n",
      "\n",
      "country: Taiwan, salary: <=50K\n",
      "average running time: 35.608695652173914\n",
      "\n",
      "country: Taiwan, salary: >50K\n",
      "average running time: 47.1578947368421\n",
      "\n",
      "country: Thailand, salary: <=50K\n",
      "average running time: 45.07142857142857\n",
      "\n",
      "country: Thailand, salary: >50K\n",
      "average running time: 58.333333333333336\n",
      "\n",
      "country: Trinadad&Tobago, salary: <=50K\n",
      "average running time: 36.875\n",
      "\n",
      "country: Trinadad&Tobago, salary: >50K\n",
      "average running time: 40.0\n",
      "\n",
      "country: United-States, salary: <=50K\n",
      "average running time: 39.34082597883856\n",
      "\n",
      "country: United-States, salary: >50K\n",
      "average running time: 45.7505360972123\n",
      "\n",
      "country: Vietnam, salary: <=50K\n",
      "average running time: 38.152542372881356\n",
      "\n",
      "country: Vietnam, salary: >50K\n",
      "average running time: 39.2\n",
      "\n",
      "country: Yugoslavia, salary: <=50K\n",
      "average running time: 41.6\n",
      "\n",
      "country: Yugoslavia, salary: >50K\n",
      "average running time: 49.5\n",
      "\n"
     ]
    }
   ],
   "source": [
    "# Ваш код здесь\n",
    "tmp_data = data.copy().groupby(['native-country', 'salary']).describe()\n",
    "tmp_data = tmp_data['hours-per-week', 'mean']\n",
    "for pair in tmp_data.keys():\n",
    "    print(f'country: {pair[0]}, salary: {pair[1]}')\n",
    "    print(f'average running time: {tmp_data[pair]}', end='\\n\\n')\n",
    "# График ниже"
   ]
  },
  {
   "cell_type": "code",
   "execution_count": 161,
   "metadata": {},
   "outputs": [
    {
     "data": {
      "text/plain": [
       "<AxesSubplot:xlabel='native-country', ylabel='hours-per-week'>"
      ]
     },
     "execution_count": 161,
     "metadata": {},
     "output_type": "execute_result"
    },
    {
     "data": {
      "image/png": "[encoded data removed]",
      "text/plain": [
       "<Figure size 2880x1080 with 1 Axes>"
      ]
     },
     "metadata": {
      "needs_background": "light"
     },
     "output_type": "display_data"
    }
   ],
   "source": [
    "plt.figure(figsize=(40, 15))\n",
    "sns.barplot(x='native-country', y='hours-per-week', hue='salary', data=data)"
   ]
  },
  {
   "cell_type": "code",
   "execution_count": null,
   "metadata": {},
   "outputs": [],
   "source": []
  }
 ],
 "metadata": {
  "anaconda-cloud": {},
  "kernelspec": {
   "display_name": "Python 3",
   "language": "python",
   "name": "python3"
  },
  "language_info": {
   "codemirror_mode": {
    "name": "ipython",
    "version": 3
   },
   "file_extension": ".py",
   "mimetype": "text/x-python",
   "name": "python",
   "nbconvert_exporter": "python",
   "pygments_lexer": "ipython3",
   "version": "3.8.5"
  }
 },
 "nbformat": 4,
 "nbformat_minor": 1
}
