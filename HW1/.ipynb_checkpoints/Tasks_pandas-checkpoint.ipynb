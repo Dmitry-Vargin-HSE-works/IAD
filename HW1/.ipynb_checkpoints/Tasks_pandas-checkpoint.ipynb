{
 "cells": [
  {
   "cell_type": "markdown",
   "metadata": {},
   "source": [
    "# <center> Майнор \"Интеллектуальный анализ данных\" </center>"
   ]
  },
  {
   "cell_type": "markdown",
   "metadata": {},
   "source": [
    "# <center> Курс \"Введение в программирование\" </center>"
   ]
  },
  {
   "cell_type": "markdown",
   "metadata": {},
   "source": [
    "# <center> Первичный анализ данных. Pandas. </center>"
   ]
  },
  {
   "cell_type": "markdown",
   "metadata": {},
   "source": [
    "## Credits\n",
    "[Открытый курс ODS по машинному обучению](https://github.com/Yorko/mlcourse_open) "
   ]
  },
  {
   "cell_type": "markdown",
   "metadata": {},
   "source": [
    "## Часть 1.   \n",
    "  \n",
    "1. Установите Anaconda (или Miniconda) и запустите Jupyter Notebook\n",
    "2. Воспроизведите вычисления с семинара (файл `Explore_analysis.Pandas.ipynb`) <br>\n",
    "   **Note:** Возможно, придется самостоятельно установить библиотеку seaborn. Для этого в Anaconda Prompt выполните `conda install seaborn`\n",
    "3. Разберите тьюториалы [10 minutes to pandas](https://pandas.pydata.org/docs/user_guide/10min.html#min) и [Essential basic functionality](https://pandas.pydata.org/docs/user_guide/basics.html#basics)."
   ]
  },
  {
   "cell_type": "markdown",
   "metadata": {},
   "source": [
    "## Часть 2. Анализ данных по доходу населения UCI Adult"
   ]
  },
  {
   "cell_type": "markdown",
   "metadata": {},
   "source": [
    "**В задании предлагается с помощью Pandas ответить на несколько вопросов по данным репозитория UCI [Adult](https://archive.ics.uci.edu/ml/datasets/Adult).**"
   ]
  },
  {
   "cell_type": "markdown",
   "metadata": {},
   "source": [
    "В качестве наблюдений в этом наборе данных представлены физические лица, они характеризуются различными признаками. Целевая переменная **salary** - доход человека > 50K или <= 50K."
   ]
  },
  {
   "cell_type": "code",
   "execution_count": 208,
   "metadata": {},
   "outputs": [],
   "source": [
    "import numpy as np\n",
    "import pandas as pd\n",
    "\n",
    "import matplotlib.pyplot as plt\n",
    "import seaborn as sns\n",
    "\n",
    "from icecream import ic\n",
    "# чтоб картинки рисовались в тетрадке\n",
    "%matplotlib inline "
   ]
  },
  {
   "cell_type": "code",
   "execution_count": 209,
   "metadata": {},
   "outputs": [
    {
     "data": {
      "text/plain": [
       "array([213, 234, 234,   5, 123,  57])"
      ]
     },
     "execution_count": 209,
     "metadata": {},
     "output_type": "execute_result"
    }
   ],
   "source": [
    "my_series = pd.Series([213, 234, 234, 5, 123, 57])\n",
    "my_series.values"
   ]
  },
  {
   "cell_type": "code",
   "execution_count": 210,
   "metadata": {},
   "outputs": [
    {
     "data": {
      "text/html": [
       "<div>\n",
       "<style scoped>\n",
       "    .dataframe tbody tr th:only-of-type {\n",
       "        vertical-align: middle;\n",
       "    }\n",
       "\n",
       "    .dataframe tbody tr th {\n",
       "        vertical-align: top;\n",
       "    }\n",
       "\n",
       "    .dataframe thead th {\n",
       "        text-align: right;\n",
       "    }\n",
       "</style>\n",
       "<table border=\"1\" class=\"dataframe\">\n",
       "  <thead>\n",
       "    <tr style=\"text-align: right;\">\n",
       "      <th></th>\n",
       "      <th>age</th>\n",
       "      <th>workclass</th>\n",
       "      <th>fnlwgt</th>\n",
       "      <th>education</th>\n",
       "      <th>education-num</th>\n",
       "      <th>marital-status</th>\n",
       "      <th>occupation</th>\n",
       "      <th>relationship</th>\n",
       "      <th>race</th>\n",
       "      <th>sex</th>\n",
       "      <th>capital-gain</th>\n",
       "      <th>capital-loss</th>\n",
       "      <th>hours-per-week</th>\n",
       "      <th>native-country</th>\n",
       "      <th>salary</th>\n",
       "    </tr>\n",
       "  </thead>\n",
       "  <tbody>\n",
       "    <tr>\n",
       "      <th>0</th>\n",
       "      <td>39</td>\n",
       "      <td>State-gov</td>\n",
       "      <td>77516</td>\n",
       "      <td>Bachelors</td>\n",
       "      <td>13</td>\n",
       "      <td>Never-married</td>\n",
       "      <td>Adm-clerical</td>\n",
       "      <td>Not-in-family</td>\n",
       "      <td>White</td>\n",
       "      <td>Male</td>\n",
       "      <td>2174</td>\n",
       "      <td>0</td>\n",
       "      <td>40</td>\n",
       "      <td>United-States</td>\n",
       "      <td>&lt;=50K</td>\n",
       "    </tr>\n",
       "    <tr>\n",
       "      <th>1</th>\n",
       "      <td>50</td>\n",
       "      <td>Self-emp-not-inc</td>\n",
       "      <td>83311</td>\n",
       "      <td>Bachelors</td>\n",
       "      <td>13</td>\n",
       "      <td>Married-civ-spouse</td>\n",
       "      <td>Exec-managerial</td>\n",
       "      <td>Husband</td>\n",
       "      <td>White</td>\n",
       "      <td>Male</td>\n",
       "      <td>0</td>\n",
       "      <td>0</td>\n",
       "      <td>13</td>\n",
       "      <td>United-States</td>\n",
       "      <td>&lt;=50K</td>\n",
       "    </tr>\n",
       "    <tr>\n",
       "      <th>2</th>\n",
       "      <td>38</td>\n",
       "      <td>Private</td>\n",
       "      <td>215646</td>\n",
       "      <td>HS-grad</td>\n",
       "      <td>9</td>\n",
       "      <td>Divorced</td>\n",
       "      <td>Handlers-cleaners</td>\n",
       "      <td>Not-in-family</td>\n",
       "      <td>White</td>\n",
       "      <td>Male</td>\n",
       "      <td>0</td>\n",
       "      <td>0</td>\n",
       "      <td>40</td>\n",
       "      <td>United-States</td>\n",
       "      <td>&lt;=50K</td>\n",
       "    </tr>\n",
       "    <tr>\n",
       "      <th>3</th>\n",
       "      <td>53</td>\n",
       "      <td>Private</td>\n",
       "      <td>234721</td>\n",
       "      <td>11th</td>\n",
       "      <td>7</td>\n",
       "      <td>Married-civ-spouse</td>\n",
       "      <td>Handlers-cleaners</td>\n",
       "      <td>Husband</td>\n",
       "      <td>Black</td>\n",
       "      <td>Male</td>\n",
       "      <td>0</td>\n",
       "      <td>0</td>\n",
       "      <td>40</td>\n",
       "      <td>United-States</td>\n",
       "      <td>&lt;=50K</td>\n",
       "    </tr>\n",
       "    <tr>\n",
       "      <th>4</th>\n",
       "      <td>28</td>\n",
       "      <td>Private</td>\n",
       "      <td>338409</td>\n",
       "      <td>Bachelors</td>\n",
       "      <td>13</td>\n",
       "      <td>Married-civ-spouse</td>\n",
       "      <td>Prof-specialty</td>\n",
       "      <td>Wife</td>\n",
       "      <td>Black</td>\n",
       "      <td>Female</td>\n",
       "      <td>0</td>\n",
       "      <td>0</td>\n",
       "      <td>40</td>\n",
       "      <td>Cuba</td>\n",
       "      <td>&lt;=50K</td>\n",
       "    </tr>\n",
       "  </tbody>\n",
       "</table>\n",
       "</div>"
      ],
      "text/plain": [
       "   age         workclass  fnlwgt  education  education-num  \\\n",
       "0   39         State-gov   77516  Bachelors             13   \n",
       "1   50  Self-emp-not-inc   83311  Bachelors             13   \n",
       "2   38           Private  215646    HS-grad              9   \n",
       "3   53           Private  234721       11th              7   \n",
       "4   28           Private  338409  Bachelors             13   \n",
       "\n",
       "       marital-status         occupation   relationship   race     sex  \\\n",
       "0       Never-married       Adm-clerical  Not-in-family  White    Male   \n",
       "1  Married-civ-spouse    Exec-managerial        Husband  White    Male   \n",
       "2            Divorced  Handlers-cleaners  Not-in-family  White    Male   \n",
       "3  Married-civ-spouse  Handlers-cleaners        Husband  Black    Male   \n",
       "4  Married-civ-spouse     Prof-specialty           Wife  Black  Female   \n",
       "\n",
       "   capital-gain  capital-loss  hours-per-week native-country salary  \n",
       "0          2174             0              40  United-States  <=50K  \n",
       "1             0             0              13  United-States  <=50K  \n",
       "2             0             0              40  United-States  <=50K  \n",
       "3             0             0              40  United-States  <=50K  \n",
       "4             0             0              40           Cuba  <=50K  "
      ]
     },
     "execution_count": 210,
     "metadata": {},
     "output_type": "execute_result"
    }
   ],
   "source": [
    "data = pd.read_csv('adult.data.csv')\n",
    "data.head()"
   ]
  },
  {
   "cell_type": "markdown",
   "metadata": {},
   "source": [
    "**Определите размерность данных: сколько наблюдений и сколько признаков**"
   ]
  },
  {
   "cell_type": "code",
   "execution_count": 211,
   "metadata": {},
   "outputs": [
    {
     "name": "stderr",
     "output_type": "stream",
     "text": [
      "ic| cases: 32561\n",
      "ic| signs: 15\n"
     ]
    },
    {
     "data": {
      "text/plain": [
       "15"
      ]
     },
     "execution_count": 211,
     "metadata": {},
     "output_type": "execute_result"
    }
   ],
   "source": [
    "# Ваш код здесь\n",
    "cases, signs = data.shape\n",
    "\n",
    "ic(cases)\n",
    "ic(signs)"
   ]
  },
  {
   "cell_type": "markdown",
   "metadata": {},
   "source": [
    "**Список признаков**  \n",
    "**На источнике описание признаков скудное, но названия почти у всех признаков говорящие**"
   ]
  },
  {
   "cell_type": "code",
   "execution_count": 212,
   "metadata": {
    "scrolled": false
   },
   "outputs": [
    {
     "name": "stdout",
     "output_type": "stream",
     "text": [
      "age\n",
      "workclass\n",
      "fnlwgt\n",
      "education\n",
      "education-num\n",
      "marital-status\n",
      "occupation\n",
      "relationship\n",
      "race\n",
      "sex\n",
      "capital-gain\n",
      "capital-loss\n",
      "hours-per-week\n",
      "native-country\n",
      "salary\n"
     ]
    }
   ],
   "source": [
    "print('\\n'.join(data.columns.values.tolist()))"
   ]
  },
  {
   "cell_type": "markdown",
   "metadata": {},
   "source": [
    "**Проверьте, присутствуют ли в данных [пропущенные значения](http://pandas.pydata.org/pandas-docs/stable/missing_data.html). Сколько? В каких признаках?**  \n",
    "**Удалите наблюдения с пропущенными значениями**"
   ]
  },
  {
   "cell_type": "code",
   "execution_count": 213,
   "metadata": {
    "scrolled": false
   },
   "outputs": [
    {
     "name": "stdout",
     "output_type": "stream",
     "text": [
      "<class 'pandas.core.frame.DataFrame'>\n",
      "RangeIndex: 32561 entries, 0 to 32560\n",
      "Data columns (total 15 columns):\n",
      " #   Column          Non-Null Count  Dtype \n",
      "---  ------          --------------  ----- \n",
      " 0   age             32561 non-null  int64 \n",
      " 1   workclass       32561 non-null  object\n",
      " 2   fnlwgt          32561 non-null  int64 \n",
      " 3   education       32561 non-null  object\n",
      " 4   education-num   32561 non-null  int64 \n",
      " 5   marital-status  32561 non-null  object\n",
      " 6   occupation      32561 non-null  object\n",
      " 7   relationship    32561 non-null  object\n",
      " 8   race            32561 non-null  object\n",
      " 9   sex             32561 non-null  object\n",
      " 10  capital-gain    32561 non-null  int64 \n",
      " 11  capital-loss    32561 non-null  int64 \n",
      " 12  hours-per-week  32561 non-null  int64 \n",
      " 13  native-country  32561 non-null  object\n",
      " 14  salary          32561 non-null  object\n",
      "dtypes: int64(6), object(9)\n",
      "memory usage: 3.7+ MB\n"
     ]
    }
   ],
   "source": [
    "# Ваш код здесь\n",
    "data.info()"
   ]
  },
  {
   "cell_type": "code",
   "execution_count": 214,
   "metadata": {},
   "outputs": [
    {
     "name": "stderr",
     "output_type": "stream",
     "text": [
      "ic| list(tmp_data[x].values).count(False): 0\n",
      "ic| list(tmp_data[x].values).count(False): 0\n",
      "ic| list(tmp_data[x].values).count(False): 0\n",
      "ic| list(tmp_data[x].values).count(False): 0\n",
      "ic| list(tmp_data[x].values).count(False): 0\n",
      "ic| list(tmp_data[x].values).count(False): 0\n",
      "ic| list(tmp_data[x].values).count(False): 0\n",
      "ic| list(tmp_data[x].values).count(False): 0\n",
      "ic| list(tmp_data[x].values).count(False): 0\n",
      "ic| list(tmp_data[x].values).count(False): 0\n",
      "ic| list(tmp_data[x].values).count(False): 0\n",
      "ic| list(tmp_data[x].values).count(False): 0\n",
      "ic| list(tmp_data[x].values).count(False): 0\n",
      "ic| list(tmp_data[x].values).count(False): 0\n",
      "ic| list(tmp_data[x].values).count(False): 0\n"
     ]
    }
   ],
   "source": [
    "# Таких значений нет\n",
    "# Это также можно проверить с помощью:\n",
    "tmp_data = data.copy().notna()\n",
    "for x in tmp_data:\n",
    "    ic(list(tmp_data[x].values).count(False))"
   ]
  },
  {
   "cell_type": "markdown",
   "metadata": {},
   "source": [
    "**Для каждого признака определите, к какому типу он относится. При необходимости, приведите признак к определенному вами типу.**"
   ]
  },
  {
   "cell_type": "code",
   "execution_count": 221,
   "metadata": {},
   "outputs": [
    {
     "data": {
      "text/plain": [
       "age                int64\n",
       "workclass         object\n",
       "fnlwgt             int64\n",
       "education         object\n",
       "education-num      int64\n",
       "marital-status    object\n",
       "occupation        object\n",
       "relationship      object\n",
       "race              object\n",
       "sex               object\n",
       "capital-gain       int64\n",
       "capital-loss       int64\n",
       "hours-per-week     int64\n",
       "native-country    object\n",
       "salary            object\n",
       "dtype: object"
      ]
     },
     "execution_count": 221,
     "metadata": {},
     "output_type": "execute_result"
    }
   ],
   "source": [
    "tmp_data = data.copy()\n",
    "tmp_data.dtypes"
   ]
  },
  {
   "cell_type": "code",
   "execution_count": 222,
   "metadata": {},
   "outputs": [
    {
     "data": {
      "text/plain": [
       "age                  int32\n",
       "workclass         category\n",
       "fnlwgt               int64\n",
       "education         category\n",
       "education-num        int64\n",
       "marital-status    category\n",
       "occupation        category\n",
       "relationship      category\n",
       "race              category\n",
       "sex               category\n",
       "capital-gain         int64\n",
       "capital-loss         int64\n",
       "hours-per-week       int64\n",
       "native-country    category\n",
       "salary            category\n",
       "dtype: object"
      ]
     },
     "execution_count": 222,
     "metadata": {},
     "output_type": "execute_result"
    }
   ],
   "source": [
    "# Уменельшение размеров памяти целых чисел\n",
    "tmp_data['age'] = tmp_data['age'].astype('int32')\n",
    "for x in tmp_data:\n",
    "    if str(tmp_data[x].dtype) == 'object':\n",
    "        tmp_data[x] = tmp_data[x].astype('category')\n",
    "tmp_data.dtypes"
   ]
  },
  {
   "cell_type": "markdown",
   "metadata": {},
   "source": [
    "**Для категориальных признаков выведите список категорий**"
   ]
  },
  {
   "cell_type": "code",
   "execution_count": 223,
   "metadata": {
    "scrolled": true
   },
   "outputs": [
    {
     "name": "stdout",
     "output_type": "stream",
     "text": [
      "workclass:\n",
      "  State-gov\n",
      "  Self-emp-not-inc\n",
      "  Private\n",
      "  Federal-gov\n",
      "  Local-gov\n",
      "  ?\n",
      "  Self-emp-inc\n",
      "  Without-pay\n",
      "  Never-worked\n",
      "\n",
      "education:\n",
      "  Bachelors\n",
      "  HS-grad\n",
      "  11th\n",
      "  Masters\n",
      "  9th\n",
      "  Some-college\n",
      "  Assoc-acdm\n",
      "  Assoc-voc\n",
      "  7th-8th\n",
      "  Doctorate\n",
      "  Prof-school\n",
      "  5th-6th\n",
      "  10th\n",
      "  1st-4th\n",
      "  Preschool\n",
      "  12th\n",
      "\n",
      "marital-status:\n",
      "  Never-married\n",
      "  Married-civ-spouse\n",
      "  Divorced\n",
      "  Married-spouse-absent\n",
      "  Separated\n",
      "  Married-AF-spouse\n",
      "  Widowed\n",
      "\n",
      "occupation:\n",
      "  Adm-clerical\n",
      "  Exec-managerial\n",
      "  Handlers-cleaners\n",
      "  Prof-specialty\n",
      "  Other-service\n",
      "  Sales\n",
      "  Craft-repair\n",
      "  Transport-moving\n",
      "  Farming-fishing\n",
      "  Machine-op-inspct\n",
      "  Tech-support\n",
      "  ?\n",
      "  Protective-serv\n",
      "  Armed-Forces\n",
      "  Priv-house-serv\n",
      "\n",
      "relationship:\n",
      "  Not-in-family\n",
      "  Husband\n",
      "  Wife\n",
      "  Own-child\n",
      "  Unmarried\n",
      "  Other-relative\n",
      "\n",
      "race:\n",
      "  White\n",
      "  Black\n",
      "  Asian-Pac-Islander\n",
      "  Amer-Indian-Eskimo\n",
      "  Other\n",
      "\n",
      "sex:\n",
      "  Male\n",
      "  Female\n",
      "\n",
      "native-country:\n",
      "  United-States\n",
      "  Cuba\n",
      "  Jamaica\n",
      "  India\n",
      "  ?\n",
      "  Mexico\n",
      "  South\n",
      "  Puerto-Rico\n",
      "  Honduras\n",
      "  England\n",
      "  Canada\n",
      "  Germany\n",
      "  Iran\n",
      "  Philippines\n",
      "  Italy\n",
      "  Poland\n",
      "  Columbia\n",
      "  Cambodia\n",
      "  Thailand\n",
      "  Ecuador\n",
      "  Laos\n",
      "  Taiwan\n",
      "  Haiti\n",
      "  Portugal\n",
      "  Dominican-Republic\n",
      "  El-Salvador\n",
      "  France\n",
      "  Guatemala\n",
      "  China\n",
      "  Japan\n",
      "  Yugoslavia\n",
      "  Peru\n",
      "  Outlying-US(Guam-USVI-etc)\n",
      "  Scotland\n",
      "  Trinadad&Tobago\n",
      "  Greece\n",
      "  Nicaragua\n",
      "  Vietnam\n",
      "  Hong\n",
      "  Ireland\n",
      "  Hungary\n",
      "  Holand-Netherlands\n",
      "\n",
      "salary:\n",
      "  <=50K\n",
      "  >50K\n",
      "\n"
     ]
    }
   ],
   "source": [
    "# Ваш код здесь\n",
    "for x in tmp_data:\n",
    "    if str(tmp_data[x].dtype) == 'category':\n",
    "        print(f'{x}:')\n",
    "        print('  ' + '\\n  '.join(list(tmp_data[x].unique())), end='\\n\\n')"
   ]
  },
  {
   "cell_type": "markdown",
   "metadata": {},
   "source": [
    "### Используя функции и методы Pandas, ответьте на вопросы:"
   ]
  },
  {
   "cell_type": "markdown",
   "metadata": {},
   "source": [
    "**1. Сколько мужчин и женщин (признак *sex*) представлено в этом наборе данных?**"
   ]
  },
  {
   "cell_type": "code",
   "execution_count": 270,
   "metadata": {},
   "outputs": [
    {
     "name": "stdout",
     "output_type": "stream",
     "text": [
      "Men: 21790\n",
      "Women: 10771\n"
     ]
    }
   ],
   "source": [
    "# Ваш код здесь\n",
    "tmp_data = data.copy()\n",
    "men_num = tmp_data.loc[tmp_data['sex'] == 'Male']['sex'].count()\n",
    "print(\"Men:\", men_num)\n",
    "print(\"Women:\", tmp_data.shape[0] - men_num)"
   ]
  },
  {
   "cell_type": "markdown",
   "metadata": {},
   "source": [
    "**2. Каков средний возраст (признак *age*) женщин?**"
   ]
  },
  {
   "cell_type": "code",
   "execution_count": 271,
   "metadata": {
    "scrolled": false
   },
   "outputs": [
    {
     "name": "stdout",
     "output_type": "stream",
     "text": [
      "average female age: 36.85823043357163\n"
     ]
    }
   ],
   "source": [
    "# Ваш код здесь\n",
    "tmp_data = data.copy()\n",
    "tmp_data = tmp_data.loc[tmp_data['sex'] == 'Female']\n",
    "print('average female age:', tmp_data['age'].sum() / tmp_data.shape[0])"
   ]
  },
  {
   "cell_type": "markdown",
   "metadata": {},
   "source": [
    "**3. Какова доля граждан Германии (признак *native-country*)?**"
   ]
  },
  {
   "cell_type": "code",
   "execution_count": 272,
   "metadata": {},
   "outputs": [
    {
     "name": "stdout",
     "output_type": "stream",
     "text": [
      "0.42% (137/32561)\n"
     ]
    }
   ],
   "source": [
    "# Ваш код здесь Germany\n",
    "tmp_data = data.copy()\n",
    "all_people = tmp_data.shape[0]\n",
    "germans = tmp_data.loc[tmp_data['native-country'] == 'Germany']['age'].count()\n",
    "print(f'{(germans * 100 / all_people):.2f}%', end=' ')\n",
    "print(f'({germans}/{all_people})')"
   ]
  },
  {
   "cell_type": "markdown",
   "metadata": {},
   "source": [
    "**4. Постройте гистограмму распределения (*bar plot*) образования людей (признак *education*).**"
   ]
  },
  {
   "cell_type": "code",
   "execution_count": 281,
   "metadata": {
    "scrolled": false
   },
   "outputs": [
    {
     "data": {
      "text/plain": [
       "<AxesSubplot:xlabel='education', ylabel='count'>"
      ]
     },
     "execution_count": 281,
     "metadata": {},
     "output_type": "execute_result"
    },
    {
     "data": {
      "image/png": "[encoded data removed]",
      "text/plain": [
       "<Figure size 1440x720 with 1 Axes>"
      ]
     },
     "metadata": {
      "needs_background": "light"
     },
     "output_type": "display_data"
    }
   ],
   "source": [
    "# Ваш код здесь\n",
    "plt.figure(figsize=(20, 10))\n",
    "sns.countplot(x='education', data=data)"
   ]
  },
  {
   "cell_type": "markdown",
   "metadata": {},
   "source": [
    "__5. Каковы средние значения и среднеквадратичные отклонения возраста тех, кто получает более 50K в год (признак _salary_) и тех, кто получает менее 50K в год?__  \n",
    "  \n",
    "**Tip:** Используйте методы `groupby` и `agg`."
   ]
  },
  {
   "cell_type": "code",
   "execution_count": 360,
   "metadata": {},
   "outputs": [
    {
     "data": {
      "text/html": [
       "<div>\n",
       "<style scoped>\n",
       "    .dataframe tbody tr th:only-of-type {\n",
       "        vertical-align: middle;\n",
       "    }\n",
       "\n",
       "    .dataframe tbody tr th {\n",
       "        vertical-align: top;\n",
       "    }\n",
       "\n",
       "    .dataframe thead th {\n",
       "        text-align: right;\n",
       "    }\n",
       "</style>\n",
       "<table border=\"1\" class=\"dataframe\">\n",
       "  <thead>\n",
       "    <tr style=\"text-align: right;\">\n",
       "      <th></th>\n",
       "      <th>mean</th>\n",
       "      <th>var</th>\n",
       "    </tr>\n",
       "    <tr>\n",
       "      <th>salary</th>\n",
       "      <th></th>\n",
       "      <th></th>\n",
       "    </tr>\n",
       "  </thead>\n",
       "  <tbody>\n",
       "    <tr>\n",
       "      <th>&lt;=50K</th>\n",
       "      <td>36.783738</td>\n",
       "      <td>196.562881</td>\n",
       "    </tr>\n",
       "    <tr>\n",
       "      <th>&gt;50K</th>\n",
       "      <td>44.249841</td>\n",
       "      <td>110.649944</td>\n",
       "    </tr>\n",
       "  </tbody>\n",
       "</table>\n",
       "</div>"
      ],
      "text/plain": [
       "             mean         var\n",
       "salary                       \n",
       "<=50K   36.783738  196.562881\n",
       ">50K    44.249841  110.649944"
      ]
     },
     "execution_count": 360,
     "metadata": {},
     "output_type": "execute_result"
    }
   ],
   "source": [
    "# Ваш код здесь\n",
    "tmp_data = data.copy().groupby('salary')['age'].agg([np.mean, np.var])\n",
    "tmp_data.head()"
   ]
  },
  {
   "cell_type": "markdown",
   "metadata": {},
   "source": [
    "**6. Правда ли, что люди, которые получают больше 50k, имеют как минимум высшее образование? (признак *education - Bachelors, Prof-school, Assoc-acdm, Assoc-voc, Masters* или *Doctorate*)**  \n",
    "  \n",
    "**Tip:** Нужно написать код (может хватить и одного выражения), который проверяет выполнение условия и возвращает `True` если условие выполняется (т.е. ответ на вопрос - да, правда) и `False` иначе."
   ]
  },
  {
   "cell_type": "code",
   "execution_count": 377,
   "metadata": {},
   "outputs": [
    {
     "name": "stdout",
     "output_type": "stream",
     "text": [
      "False\n"
     ]
    }
   ],
   "source": [
    "# Ваш код здесь\n",
    "tmp_data = data.copy()\n",
    "td1 = tmp_data.loc[tmp_data['salary'] == '>50K']\n",
    "td2 = td1.loc[td1['education'].isin(('Bachelors', 'Prof-school', 'Assoc-acdm', 'Assoc-voc', 'Masters', 'Doctorate'))]\n",
    "# print(td1.shape[0], td2.shape[0])\n",
    "print(td1.shape[0] == td2.shape[0])"
   ]
  },
  {
   "cell_type": "markdown",
   "metadata": {},
   "source": [
    "**7. Выведите статистику возраста для каждой расы (признак *race*) и каждого пола. Используйте *groupby* и *describe*. Найдите таким образом максимальный возраст мужчин расы *Amer-Indian-Eskimo*.**  \n",
    "  \n",
    "**Tip:** Максимальный возраст мужчин расы *Amer-Indian-Eskimo* необходимо получить из таблицы, полученной в результате использования методов *groupby* и *describe*. Почитайте про [MultiIndex](https://pandas.pydata.org/pandas-docs/stable/advanced.html)."
   ]
  },
  {
   "cell_type": "code",
   "execution_count": 448,
   "metadata": {},
   "outputs": [
    {
     "data": {
      "text/html": [
       "<div>\n",
       "<style scoped>\n",
       "    .dataframe tbody tr th:only-of-type {\n",
       "        vertical-align: middle;\n",
       "    }\n",
       "\n",
       "    .dataframe tbody tr th {\n",
       "        vertical-align: top;\n",
       "    }\n",
       "\n",
       "    .dataframe thead tr th {\n",
       "        text-align: left;\n",
       "    }\n",
       "\n",
       "    .dataframe thead tr:last-of-type th {\n",
       "        text-align: right;\n",
       "    }\n",
       "</style>\n",
       "<table border=\"1\" class=\"dataframe\">\n",
       "  <thead>\n",
       "    <tr>\n",
       "      <th></th>\n",
       "      <th></th>\n",
       "      <th colspan=\"8\" halign=\"left\">age</th>\n",
       "      <th colspan=\"2\" halign=\"left\">fnlwgt</th>\n",
       "      <th>...</th>\n",
       "      <th colspan=\"2\" halign=\"left\">capital-loss</th>\n",
       "      <th colspan=\"8\" halign=\"left\">hours-per-week</th>\n",
       "    </tr>\n",
       "    <tr>\n",
       "      <th></th>\n",
       "      <th></th>\n",
       "      <th>count</th>\n",
       "      <th>mean</th>\n",
       "      <th>std</th>\n",
       "      <th>min</th>\n",
       "      <th>25%</th>\n",
       "      <th>50%</th>\n",
       "      <th>75%</th>\n",
       "      <th>max</th>\n",
       "      <th>count</th>\n",
       "      <th>mean</th>\n",
       "      <th>...</th>\n",
       "      <th>75%</th>\n",
       "      <th>max</th>\n",
       "      <th>count</th>\n",
       "      <th>mean</th>\n",
       "      <th>std</th>\n",
       "      <th>min</th>\n",
       "      <th>25%</th>\n",
       "      <th>50%</th>\n",
       "      <th>75%</th>\n",
       "      <th>max</th>\n",
       "    </tr>\n",
       "    <tr>\n",
       "      <th>race</th>\n",
       "      <th>sex</th>\n",
       "      <th></th>\n",
       "      <th></th>\n",
       "      <th></th>\n",
       "      <th></th>\n",
       "      <th></th>\n",
       "      <th></th>\n",
       "      <th></th>\n",
       "      <th></th>\n",
       "      <th></th>\n",
       "      <th></th>\n",
       "      <th></th>\n",
       "      <th></th>\n",
       "      <th></th>\n",
       "      <th></th>\n",
       "      <th></th>\n",
       "      <th></th>\n",
       "      <th></th>\n",
       "      <th></th>\n",
       "      <th></th>\n",
       "      <th></th>\n",
       "      <th></th>\n",
       "    </tr>\n",
       "  </thead>\n",
       "  <tbody>\n",
       "    <tr>\n",
       "      <th rowspan=\"2\" valign=\"top\">Amer-Indian-Eskimo</th>\n",
       "      <th>Female</th>\n",
       "      <td>119.0</td>\n",
       "      <td>37.117647</td>\n",
       "      <td>13.114991</td>\n",
       "      <td>17.0</td>\n",
       "      <td>27.0</td>\n",
       "      <td>36.0</td>\n",
       "      <td>46.00</td>\n",
       "      <td>80.0</td>\n",
       "      <td>119.0</td>\n",
       "      <td>112950.731092</td>\n",
       "      <td>...</td>\n",
       "      <td>0.0</td>\n",
       "      <td>1721.0</td>\n",
       "      <td>119.0</td>\n",
       "      <td>36.579832</td>\n",
       "      <td>11.046509</td>\n",
       "      <td>4.0</td>\n",
       "      <td>35.0</td>\n",
       "      <td>40.0</td>\n",
       "      <td>40.0</td>\n",
       "      <td>84.0</td>\n",
       "    </tr>\n",
       "    <tr>\n",
       "      <th>Male</th>\n",
       "      <td>192.0</td>\n",
       "      <td>37.208333</td>\n",
       "      <td>12.049563</td>\n",
       "      <td>17.0</td>\n",
       "      <td>28.0</td>\n",
       "      <td>35.0</td>\n",
       "      <td>45.00</td>\n",
       "      <td>82.0</td>\n",
       "      <td>192.0</td>\n",
       "      <td>125715.364583</td>\n",
       "      <td>...</td>\n",
       "      <td>0.0</td>\n",
       "      <td>1980.0</td>\n",
       "      <td>192.0</td>\n",
       "      <td>42.197917</td>\n",
       "      <td>11.596280</td>\n",
       "      <td>3.0</td>\n",
       "      <td>40.0</td>\n",
       "      <td>40.0</td>\n",
       "      <td>45.0</td>\n",
       "      <td>84.0</td>\n",
       "    </tr>\n",
       "    <tr>\n",
       "      <th rowspan=\"2\" valign=\"top\">Asian-Pac-Islander</th>\n",
       "      <th>Female</th>\n",
       "      <td>346.0</td>\n",
       "      <td>35.089595</td>\n",
       "      <td>12.300845</td>\n",
       "      <td>17.0</td>\n",
       "      <td>25.0</td>\n",
       "      <td>33.0</td>\n",
       "      <td>43.75</td>\n",
       "      <td>75.0</td>\n",
       "      <td>346.0</td>\n",
       "      <td>147452.075145</td>\n",
       "      <td>...</td>\n",
       "      <td>0.0</td>\n",
       "      <td>2258.0</td>\n",
       "      <td>346.0</td>\n",
       "      <td>37.439306</td>\n",
       "      <td>12.479459</td>\n",
       "      <td>1.0</td>\n",
       "      <td>35.0</td>\n",
       "      <td>40.0</td>\n",
       "      <td>40.0</td>\n",
       "      <td>99.0</td>\n",
       "    </tr>\n",
       "    <tr>\n",
       "      <th>Male</th>\n",
       "      <td>693.0</td>\n",
       "      <td>39.073593</td>\n",
       "      <td>12.883944</td>\n",
       "      <td>18.0</td>\n",
       "      <td>29.0</td>\n",
       "      <td>37.0</td>\n",
       "      <td>46.00</td>\n",
       "      <td>90.0</td>\n",
       "      <td>693.0</td>\n",
       "      <td>166175.865801</td>\n",
       "      <td>...</td>\n",
       "      <td>0.0</td>\n",
       "      <td>2457.0</td>\n",
       "      <td>693.0</td>\n",
       "      <td>41.468975</td>\n",
       "      <td>12.387563</td>\n",
       "      <td>1.0</td>\n",
       "      <td>40.0</td>\n",
       "      <td>40.0</td>\n",
       "      <td>45.0</td>\n",
       "      <td>99.0</td>\n",
       "    </tr>\n",
       "    <tr>\n",
       "      <th rowspan=\"2\" valign=\"top\">Black</th>\n",
       "      <th>Female</th>\n",
       "      <td>1555.0</td>\n",
       "      <td>37.854019</td>\n",
       "      <td>12.637197</td>\n",
       "      <td>17.0</td>\n",
       "      <td>28.0</td>\n",
       "      <td>37.0</td>\n",
       "      <td>46.00</td>\n",
       "      <td>90.0</td>\n",
       "      <td>1555.0</td>\n",
       "      <td>212971.387781</td>\n",
       "      <td>...</td>\n",
       "      <td>0.0</td>\n",
       "      <td>4356.0</td>\n",
       "      <td>1555.0</td>\n",
       "      <td>36.834084</td>\n",
       "      <td>9.419960</td>\n",
       "      <td>2.0</td>\n",
       "      <td>35.0</td>\n",
       "      <td>40.0</td>\n",
       "      <td>40.0</td>\n",
       "      <td>99.0</td>\n",
       "    </tr>\n",
       "    <tr>\n",
       "      <th>Male</th>\n",
       "      <td>1569.0</td>\n",
       "      <td>37.682600</td>\n",
       "      <td>12.882612</td>\n",
       "      <td>17.0</td>\n",
       "      <td>27.0</td>\n",
       "      <td>36.0</td>\n",
       "      <td>46.00</td>\n",
       "      <td>90.0</td>\n",
       "      <td>1569.0</td>\n",
       "      <td>242920.644997</td>\n",
       "      <td>...</td>\n",
       "      <td>0.0</td>\n",
       "      <td>2824.0</td>\n",
       "      <td>1569.0</td>\n",
       "      <td>39.997451</td>\n",
       "      <td>10.909413</td>\n",
       "      <td>1.0</td>\n",
       "      <td>40.0</td>\n",
       "      <td>40.0</td>\n",
       "      <td>40.0</td>\n",
       "      <td>99.0</td>\n",
       "    </tr>\n",
       "    <tr>\n",
       "      <th rowspan=\"2\" valign=\"top\">Other</th>\n",
       "      <th>Female</th>\n",
       "      <td>109.0</td>\n",
       "      <td>31.678899</td>\n",
       "      <td>11.631599</td>\n",
       "      <td>17.0</td>\n",
       "      <td>23.0</td>\n",
       "      <td>29.0</td>\n",
       "      <td>39.00</td>\n",
       "      <td>74.0</td>\n",
       "      <td>109.0</td>\n",
       "      <td>172519.642202</td>\n",
       "      <td>...</td>\n",
       "      <td>0.0</td>\n",
       "      <td>1740.0</td>\n",
       "      <td>109.0</td>\n",
       "      <td>35.926606</td>\n",
       "      <td>10.300761</td>\n",
       "      <td>6.0</td>\n",
       "      <td>30.0</td>\n",
       "      <td>40.0</td>\n",
       "      <td>40.0</td>\n",
       "      <td>65.0</td>\n",
       "    </tr>\n",
       "    <tr>\n",
       "      <th>Male</th>\n",
       "      <td>162.0</td>\n",
       "      <td>34.654321</td>\n",
       "      <td>11.355531</td>\n",
       "      <td>17.0</td>\n",
       "      <td>26.0</td>\n",
       "      <td>32.0</td>\n",
       "      <td>42.00</td>\n",
       "      <td>77.0</td>\n",
       "      <td>162.0</td>\n",
       "      <td>213679.104938</td>\n",
       "      <td>...</td>\n",
       "      <td>0.0</td>\n",
       "      <td>2179.0</td>\n",
       "      <td>162.0</td>\n",
       "      <td>41.851852</td>\n",
       "      <td>11.084779</td>\n",
       "      <td>5.0</td>\n",
       "      <td>40.0</td>\n",
       "      <td>40.0</td>\n",
       "      <td>40.0</td>\n",
       "      <td>98.0</td>\n",
       "    </tr>\n",
       "    <tr>\n",
       "      <th rowspan=\"2\" valign=\"top\">White</th>\n",
       "      <th>Female</th>\n",
       "      <td>8642.0</td>\n",
       "      <td>36.811618</td>\n",
       "      <td>14.329093</td>\n",
       "      <td>17.0</td>\n",
       "      <td>25.0</td>\n",
       "      <td>35.0</td>\n",
       "      <td>46.00</td>\n",
       "      <td>90.0</td>\n",
       "      <td>8642.0</td>\n",
       "      <td>183549.966906</td>\n",
       "      <td>...</td>\n",
       "      <td>0.0</td>\n",
       "      <td>4356.0</td>\n",
       "      <td>8642.0</td>\n",
       "      <td>36.296691</td>\n",
       "      <td>12.190951</td>\n",
       "      <td>1.0</td>\n",
       "      <td>30.0</td>\n",
       "      <td>40.0</td>\n",
       "      <td>40.0</td>\n",
       "      <td>99.0</td>\n",
       "    </tr>\n",
       "    <tr>\n",
       "      <th>Male</th>\n",
       "      <td>19174.0</td>\n",
       "      <td>39.652498</td>\n",
       "      <td>13.436029</td>\n",
       "      <td>17.0</td>\n",
       "      <td>29.0</td>\n",
       "      <td>38.0</td>\n",
       "      <td>49.00</td>\n",
       "      <td>90.0</td>\n",
       "      <td>19174.0</td>\n",
       "      <td>188987.386148</td>\n",
       "      <td>...</td>\n",
       "      <td>0.0</td>\n",
       "      <td>3770.0</td>\n",
       "      <td>19174.0</td>\n",
       "      <td>42.668822</td>\n",
       "      <td>12.194633</td>\n",
       "      <td>1.0</td>\n",
       "      <td>40.0</td>\n",
       "      <td>40.0</td>\n",
       "      <td>50.0</td>\n",
       "      <td>99.0</td>\n",
       "    </tr>\n",
       "  </tbody>\n",
       "</table>\n",
       "<p>10 rows × 48 columns</p>\n",
       "</div>"
      ],
      "text/plain": [
       "                               age                                          \\\n",
       "                             count       mean        std   min   25%   50%   \n",
       "race               sex                                                       \n",
       "Amer-Indian-Eskimo Female    119.0  37.117647  13.114991  17.0  27.0  36.0   \n",
       "                   Male      192.0  37.208333  12.049563  17.0  28.0  35.0   \n",
       "Asian-Pac-Islander Female    346.0  35.089595  12.300845  17.0  25.0  33.0   \n",
       "                   Male      693.0  39.073593  12.883944  18.0  29.0  37.0   \n",
       "Black              Female   1555.0  37.854019  12.637197  17.0  28.0  37.0   \n",
       "                   Male     1569.0  37.682600  12.882612  17.0  27.0  36.0   \n",
       "Other              Female    109.0  31.678899  11.631599  17.0  23.0  29.0   \n",
       "                   Male      162.0  34.654321  11.355531  17.0  26.0  32.0   \n",
       "White              Female   8642.0  36.811618  14.329093  17.0  25.0  35.0   \n",
       "                   Male    19174.0  39.652498  13.436029  17.0  29.0  38.0   \n",
       "\n",
       "                                         fnlwgt                 ...  \\\n",
       "                             75%   max    count           mean  ...   \n",
       "race               sex                                          ...   \n",
       "Amer-Indian-Eskimo Female  46.00  80.0    119.0  112950.731092  ...   \n",
       "                   Male    45.00  82.0    192.0  125715.364583  ...   \n",
       "Asian-Pac-Islander Female  43.75  75.0    346.0  147452.075145  ...   \n",
       "                   Male    46.00  90.0    693.0  166175.865801  ...   \n",
       "Black              Female  46.00  90.0   1555.0  212971.387781  ...   \n",
       "                   Male    46.00  90.0   1569.0  242920.644997  ...   \n",
       "Other              Female  39.00  74.0    109.0  172519.642202  ...   \n",
       "                   Male    42.00  77.0    162.0  213679.104938  ...   \n",
       "White              Female  46.00  90.0   8642.0  183549.966906  ...   \n",
       "                   Male    49.00  90.0  19174.0  188987.386148  ...   \n",
       "\n",
       "                          capital-loss         hours-per-week             \\\n",
       "                                   75%     max          count       mean   \n",
       "race               sex                                                     \n",
       "Amer-Indian-Eskimo Female          0.0  1721.0          119.0  36.579832   \n",
       "                   Male            0.0  1980.0          192.0  42.197917   \n",
       "Asian-Pac-Islander Female          0.0  2258.0          346.0  37.439306   \n",
       "                   Male            0.0  2457.0          693.0  41.468975   \n",
       "Black              Female          0.0  4356.0         1555.0  36.834084   \n",
       "                   Male            0.0  2824.0         1569.0  39.997451   \n",
       "Other              Female          0.0  1740.0          109.0  35.926606   \n",
       "                   Male            0.0  2179.0          162.0  41.851852   \n",
       "White              Female          0.0  4356.0         8642.0  36.296691   \n",
       "                   Male            0.0  3770.0        19174.0  42.668822   \n",
       "\n",
       "                                                                   \n",
       "                                 std  min   25%   50%   75%   max  \n",
       "race               sex                                             \n",
       "Amer-Indian-Eskimo Female  11.046509  4.0  35.0  40.0  40.0  84.0  \n",
       "                   Male    11.596280  3.0  40.0  40.0  45.0  84.0  \n",
       "Asian-Pac-Islander Female  12.479459  1.0  35.0  40.0  40.0  99.0  \n",
       "                   Male    12.387563  1.0  40.0  40.0  45.0  99.0  \n",
       "Black              Female   9.419960  2.0  35.0  40.0  40.0  99.0  \n",
       "                   Male    10.909413  1.0  40.0  40.0  40.0  99.0  \n",
       "Other              Female  10.300761  6.0  30.0  40.0  40.0  65.0  \n",
       "                   Male    11.084779  5.0  40.0  40.0  40.0  98.0  \n",
       "White              Female  12.190951  1.0  30.0  40.0  40.0  99.0  \n",
       "                   Male    12.194633  1.0  40.0  40.0  50.0  99.0  \n",
       "\n",
       "[10 rows x 48 columns]"
      ]
     },
     "execution_count": 448,
     "metadata": {},
     "output_type": "execute_result"
    }
   ],
   "source": [
    "# Ваш код здесь\n",
    "tmp_data = data.copy()\n",
    "ra_data = tmp_data.groupby(['race', 'sex'])\n",
    "ra_data.describe()\n",
    "# Продолжение этого задания ниже"
   ]
  },
  {
   "cell_type": "code",
   "execution_count": 447,
   "metadata": {},
   "outputs": [
    {
     "data": {
      "text/plain": [
       "sex\n",
       "Female    80.0\n",
       "Male      82.0\n",
       "Name: (age, max), dtype: float64"
      ]
     },
     "execution_count": 447,
     "metadata": {},
     "output_type": "execute_result"
    }
   ],
   "source": [
    "\n",
    "ra_data.describe()['age', 'max']['Amer-Indian-Eskimo']"
   ]
  },
  {
   "cell_type": "markdown",
   "metadata": {},
   "source": [
    "**8. Среди кого больше доля зарабатывающих много (>50K): среди женатых или холостых мужчин (признак *marital-status*)? Женатыми считаем тех, у кого *marital-status* начинается с *Married* (Married-civ-spouse, Married-spouse-absent или Married-AF-spouse), остальных считаем холостыми.**"
   ]
  },
  {
   "cell_type": "code",
   "execution_count": 488,
   "metadata": {},
   "outputs": [
    {
     "name": "stdout",
     "output_type": "stream",
     "text": [
      "Married men is more often get big salary (5268)\n"
     ]
    }
   ],
   "source": [
    "# Ваш код здесь\n",
    "tmp_data = data.copy()\n",
    "people_num = tmp_data.shape[0]\n",
    "tmp_data = tmp_data.loc[(tmp_data['sex'] == 'Male') & (tmp_data['salary'] == '>50K')]\n",
    "cool_men_num = tmp_data.shape[0]\n",
    "tmp_data = tmp_data.loc[tmp_data['marital-status'].\n",
    "                      isin(['Married-civ-spouse', \n",
    "                            'Married-spouse-absent',\n",
    "                            'Married-AF-spouse'])]\n",
    "sm_num = tmp_data.shape[0]\n",
    "sl_num = cool_men_num - sm_num\n",
    "answer = sm_num-sl_num\n",
    "if answer > 0:\n",
    "    print('Married men is more often get big salary', f'({answer})')\n",
    "elif answer < 0:\n",
    "    print('Not married men is more often get big salary', f'({-answer})')\n",
    "else:\n",
    "    print('They get a same salary')\n"
   ]
  },
  {
   "cell_type": "markdown",
   "metadata": {},
   "source": [
    "**9. Какое максимальное число часов человек работает в неделю (признак *hours-per-week*)? Сколько людей работают такое количество часов и каков среди них процент зарабатывающих много?**"
   ]
  },
  {
   "cell_type": "code",
   "execution_count": null,
   "metadata": {},
   "outputs": [],
   "source": [
    "# Ваш код здесь"
   ]
  },
  {
   "cell_type": "markdown",
   "metadata": {},
   "source": [
    "**10. Посчитайте среднее время работы (*hours-per-week*) зарабатывающих мало и много (*salary*) для каждой страны (*native-country*).**  \n",
    "  \n",
    "**Tip:** Необходимо построить `barplot` для каждой страны с разбивкой по признаку *salary*. Используйте [crosstab](https://pandas.pydata.org/pandas-docs/stable/generated/pandas.crosstab.html).  \n",
    "Пример графика: ![](task_10_example.png)"
   ]
  },
  {
   "cell_type": "code",
   "execution_count": null,
   "metadata": {},
   "outputs": [],
   "source": [
    "# Ваш код здесь"
   ]
  }
 ],
 "metadata": {
  "anaconda-cloud": {},
  "kernelspec": {
   "display_name": "Python 3",
   "language": "python",
   "name": "python3"
  },
  "language_info": {
   "codemirror_mode": {
    "name": "ipython",
    "version": 3
   },
   "file_extension": ".py",
   "mimetype": "text/x-python",
   "name": "python",
   "nbconvert_exporter": "python",
   "pygments_lexer": "ipython3",
   "version": "3.8.5"
  }
 },
 "nbformat": 4,
 "nbformat_minor": 1
}
